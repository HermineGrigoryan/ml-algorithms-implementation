{
  "cells": [
    {
      "cell_type": "markdown",
      "metadata": {
        "id": "UXxWWRFr5XOK"
      },
      "source": [
        "<center>\n",
        "        <h1>CS 251/340 Machine Learning</h1>\n",
        "        <h2>AUA, Spring 2022</h2>\n",
        "        <h1> Homework 05 </h1>\n",
        "</center>"
      ]
    },
    {
      "cell_type": "code",
      "execution_count": 6,
      "metadata": {},
      "outputs": [],
      "source": [
        "import numpy as np\n",
        "import pandas as pd\n",
        "from sklearn.model_selection import train_test_split\n",
        "from sklearn.linear_model import LinearRegression\n",
        "from sklearn.neighbors import KNeighborsRegressor\n",
        "from sklearn.svm import SVR, SVC, LinearSVC\n",
        "from sklearn.discriminant_analysis import LinearDiscriminantAnalysis, QuadraticDiscriminantAnalysis\n",
        "from sklearn.naive_bayes import GaussianNB\n",
        "from sklearn.datasets import make_classification\n",
        "\n",
        "from sklearn.metrics import mean_squared_error\n",
        "\n",
        "import matplotlib.pyplot as plt"
      ]
    },
    {
      "cell_type": "markdown",
      "metadata": {
        "id": "VzVPwIkCSQbe"
      },
      "source": [
        "# (Python) Problem 01: Regression\n",
        "\n",
        "  * Generate a 1D Regression Dataset $(x_k, y_k)$, $k=1,.., 400$, from the Bivariate Normal Distribution with Mean $[0,0]^T$, and such that the Variances of $X$ and $Y$ are equal to 1, and the correlation coefficient $cor(X,Y) = 0.83$;\n",
        "  * Split the Dataset into 30/70 Test/Train Datasets;\n",
        "  * Construct Regression Models by using\n",
        "      - OLS\n",
        "      - 5-NN Regression\n",
        "      - Support Vector Regression (with some parameters)\n",
        "  * Draw the Regression curves obtained\n",
        "  * Compare the Models on the Test Data and choose the best one\n",
        "  * Predict the Label for the observation with the Feature vector [0]."
      ]
    },
    {
      "cell_type": "code",
      "execution_count": 5,
      "metadata": {},
      "outputs": [
        {
          "data": {
            "text/plain": [
              "(400, 2)"
            ]
          },
          "execution_count": 5,
          "metadata": {},
          "output_type": "execute_result"
        }
      ],
      "source": [
        "mu = np.array([0, 0])\n",
        "sigma = np.array([[1, 0.83], [0.83, 1]])\n",
        "df = np.random.multivariate_normal(mu, sigma, size=400)\n",
        "df.shape"
      ]
    },
    {
      "cell_type": "code",
      "execution_count": 23,
      "metadata": {},
      "outputs": [],
      "source": [
        "X = df[:,0].reshape(-1,1)\n",
        "y = df[:,1]\n",
        "X_train, X_test, y_train, y_test = train_test_split(X, y, test_size=0.3, random_state=42)"
      ]
    },
    {
      "cell_type": "code",
      "execution_count": 24,
      "metadata": {},
      "outputs": [],
      "source": [
        "ols = LinearRegression().fit(X_train, y_train)\n",
        "knn5 = KNeighborsRegressor(n_neighbors=5).fit(X_train, y_train)\n",
        "svr = SVR(kernel='linear').fit(X_train, y_train)"
      ]
    },
    {
      "cell_type": "code",
      "execution_count": 25,
      "metadata": {},
      "outputs": [
        {
          "name": "stdout",
          "output_type": "stream",
          "text": [
            "OLS score 0.34019195977739347\n",
            "KNN score 0.4306752657244129\n",
            "SVR score 0.34240038613806956\n"
          ]
        }
      ],
      "source": [
        "print('OLS score', mean_squared_error(y_test, ols.predict(X_test)))\n",
        "print('KNN score', mean_squared_error(y_test, knn5.predict(X_test)))\n",
        "print('SVR score', mean_squared_error(y_test, svr.predict(X_test)))"
      ]
    },
    {
      "cell_type": "code",
      "execution_count": 26,
      "metadata": {},
      "outputs": [
        {
          "data": {
            "image/png": "[encoded data removed]",
            "text/plain": [
              "<Figure size 432x288 with 1 Axes>"
            ]
          },
          "metadata": {
            "needs_background": "light"
          },
          "output_type": "display_data"
        }
      ],
      "source": [
        "x_linspace = np.linspace(X.min(), X.max(), 300).reshape(-1, 1)\n",
        "\n",
        "plt.scatter(X, y, c='grey')\n",
        "plt.plot(x_linspace, ols.predict(x_linspace), label = 'OLS')\n",
        "plt.plot(x_linspace, knn5.predict(x_linspace), label = 'KNN')\n",
        "plt.plot(x_linspace, svr.predict(x_linspace), label = 'SVR')\n",
        "plt.legend()\n",
        "plt.show()"
      ]
    },
    {
      "cell_type": "code",
      "execution_count": 28,
      "metadata": {},
      "outputs": [
        {
          "name": "stdout",
          "output_type": "stream",
          "text": [
            "[-0.0694064]\n",
            "[-0.09232336]\n"
          ]
        }
      ],
      "source": [
        "print(ols.predict([[0]]))\n",
        "print(svr.predict([[0]]))"
      ]
    },
    {
      "cell_type": "markdown",
      "metadata": {
        "id": "hNbh9uBMWZGq"
      },
      "source": [
        "# (Python) Problem 02: MLE for Bivariate Normal\n",
        "\n",
        "  * Take\n",
        "  $$\n",
        "  \\mu = \\left[\\begin{array}{c} 1\\\\ -2 \\end{array}\\right], \\qquad \\Sigma = \\left[\\begin{array}{cc} 5 & 2\\\\ 2 & 8 \\end{array}\\right],\n",
        "  $$\n",
        "\n",
        "  * Generate a Sample of size $500$ from $\\mathcal{N}(\\mu, \\Sigma)$;\n",
        "  * Now assume we do not have $\\mu$ and $\\Sigma$, and we want to Estimate them using the above Sample, and the MLE: Calculate the MLE Estimates for $\\mu$ and $\\Sigma$, and check if they are close to the true values."
      ]
    },
    {
      "cell_type": "code",
      "execution_count": 30,
      "metadata": {},
      "outputs": [],
      "source": [
        "mu = np.array([1, -2])\n",
        "sigma = np.array([[5,2], [2, 8]])\n",
        "df = np.random.multivariate_normal(mu, sigma, 500)"
      ]
    },
    {
      "cell_type": "code",
      "execution_count": 33,
      "metadata": {},
      "outputs": [
        {
          "data": {
            "text/plain": [
              "(1.0404259655141286, -2.066151060591256)"
            ]
          },
          "execution_count": 33,
          "metadata": {},
          "output_type": "execute_result"
        }
      ],
      "source": [
        "df[:,0].mean(), df[:,1].mean()"
      ]
    },
    {
      "cell_type": "code",
      "execution_count": 34,
      "metadata": {},
      "outputs": [
        {
          "data": {
            "text/plain": [
              "array([[5.39290189, 2.67094921],\n",
              "       [2.67094921, 9.49936759]])"
            ]
          },
          "execution_count": 34,
          "metadata": {},
          "output_type": "execute_result"
        }
      ],
      "source": [
        "np.cov(df[:,0], df[:,1])"
      ]
    },
    {
      "cell_type": "markdown",
      "metadata": {
        "id": "LIpr1HKIVbze"
      },
      "source": [
        "# (Python) Problem 03: LDA Implementation\n",
        "\n",
        " Using only `numpy`-s or `scipy`-s functions, implement the Binary Classification LDA algorithm. Test on some Dataset, and compare with the `sklearn`-s built-in LDA algorithm."
      ]
    },
    {
      "cell_type": "code",
      "execution_count": 133,
      "metadata": {},
      "outputs": [],
      "source": [
        "mu = np.array([0, 0])\n",
        "sigma = np.array([[1, 0.83], [0.83, 1]])\n",
        "X0 = np.random.multivariate_normal(mu, sigma, size=100)\n",
        "y0 = np.zeros(shape=(100, ))\n",
        "\n",
        "\n",
        "mu = np.array([0, 1])\n",
        "sigma = np.array([[1, 0.9], [0.9, 1]])\n",
        "X1 = np.random.multivariate_normal(mu, sigma, size=110)\n",
        "y1 = np.ones(shape=(110, ))"
      ]
    },
    {
      "cell_type": "code",
      "execution_count": 134,
      "metadata": {},
      "outputs": [
        {
          "data": {
            "text/plain": [
              "((210, 2), (210,))"
            ]
          },
          "execution_count": 134,
          "metadata": {},
          "output_type": "execute_result"
        }
      ],
      "source": [
        "X = np.append(X0, X1, axis=0)\n",
        "y = np.append(y0, y1, axis=0)\n",
        "X.shape, y.shape"
      ]
    },
    {
      "cell_type": "code",
      "execution_count": 135,
      "metadata": {},
      "outputs": [
        {
          "data": {
            "text/plain": [
              "array([[1.17917764, 0.97667958],\n",
              "       [0.97667958, 1.07338736]])"
            ]
          },
          "execution_count": 135,
          "metadata": {},
          "output_type": "execute_result"
        }
      ],
      "source": [
        "means0 = X0.mean(axis=0)\n",
        "means1 = X1.mean(axis=0)\n",
        "\n",
        "sigmas0 = np.cov(X0.T)\n",
        "sigmas1 = np.cov(X1.T)\n",
        "\n",
        "\n",
        "n0 = X0.shape[0]\n",
        "n1 = X1.shape[1]\n",
        "w_sigma = (n0/(n0+n1)*sigmas0 + n1/(n0+n1)*sigmas1)\n",
        "w_sigma"
      ]
    },
    {
      "cell_type": "code",
      "execution_count": 136,
      "metadata": {},
      "outputs": [
        {
          "data": {
            "image/png": "[encoded data removed]",
            "text/plain": [
              "<Figure size 432x288 with 1 Axes>"
            ]
          },
          "metadata": {
            "needs_background": "light"
          },
          "output_type": "display_data"
        }
      ],
      "source": [
        "from matplotlib import image\n",
        "img = image.imread(\"discriminant_f.png\")\n",
        "plt.imshow(img)\n",
        "plt.show()"
      ]
    },
    {
      "cell_type": "code",
      "execution_count": 137,
      "metadata": {},
      "outputs": [
        {
          "data": {
            "text/plain": [
              "(2,)"
            ]
          },
          "execution_count": 137,
          "metadata": {},
          "output_type": "execute_result"
        }
      ],
      "source": [
        "means0.shape"
      ]
    },
    {
      "cell_type": "code",
      "execution_count": 138,
      "metadata": {},
      "outputs": [],
      "source": [
        "new_x = np.array([-1, -2])"
      ]
    },
    {
      "cell_type": "code",
      "execution_count": 139,
      "metadata": {},
      "outputs": [
        {
          "name": "stdout",
          "output_type": "stream",
          "text": [
            "-0.21701942046640033 -10.49508875216852\n"
          ]
        },
        {
          "data": {
            "text/plain": [
              "0"
            ]
          },
          "execution_count": 139,
          "metadata": {},
          "output_type": "execute_result"
        }
      ],
      "source": [
        "delta0 = new_x.T @ np.linalg.inv(w_sigma) @ means0 - 0.5*means0.T @ np.linalg.inv(w_sigma) @ means0 + np.log(n0/(n0+n1))\n",
        "delta1 = new_x.T @ np.linalg.inv(w_sigma) @ means1 - 0.5*means1.T @ np.linalg.inv(w_sigma) @ means1 + np.log(n1/(n0+n1))\n",
        "\n",
        "print(delta0, delta1)\n",
        "1 if delta1 >= delta0 else 0"
      ]
    },
    {
      "cell_type": "code",
      "execution_count": 140,
      "metadata": {},
      "outputs": [],
      "source": [
        "decision = []\n",
        "\n",
        "for new_x in X:    \n",
        "\n",
        "    delta0 = new_x.T @ np.linalg.inv(w_sigma) @ means0 - 0.5*means0.T @ np.linalg.inv(w_sigma) @ means0 + np.log(n0/(n0+n1))\n",
        "    delta1 = new_x.T @ np.linalg.inv(w_sigma) @ means1 - 0.5*means1.T @ np.linalg.inv(w_sigma) @ means1 + np.log(n1/(n0+n1))\n",
        "    \n",
        "    decision.append(1 if delta1 >= delta0 else 0)"
      ]
    },
    {
      "cell_type": "code",
      "execution_count": 142,
      "metadata": {},
      "outputs": [
        {
          "data": {
            "text/plain": [
              "<matplotlib.collections.PathCollection at 0x7fcf5877ab50>"
            ]
          },
          "execution_count": 142,
          "metadata": {},
          "output_type": "execute_result"
        },
        {
          "data": {
            "image/png": "[encoded data removed]",
            "text/plain": [
              "<Figure size 432x288 with 1 Axes>"
            ]
          },
          "metadata": {
            "needs_background": "light"
          },
          "output_type": "display_data"
        }
      ],
      "source": [
        "plt.scatter(X[:,0], X[:,1], c=decision)"
      ]
    },
    {
      "cell_type": "code",
      "execution_count": 182,
      "metadata": {},
      "outputs": [
        {
          "data": {
            "text/plain": [
              "array([0., 0., 0., 0., 0., 0., 1., 0., 0., 0., 0., 1., 0., 0., 0., 0., 1.,\n",
              "       0., 0., 0., 0., 0., 1., 0., 0., 0., 0., 0., 0., 0., 0., 1., 0., 0.,\n",
              "       0., 0., 0., 0., 1., 1., 0., 0., 0., 0., 0., 0., 0., 1., 0., 0., 1.,\n",
              "       0., 0., 1., 0., 0., 0., 0., 1., 0., 0., 0., 0., 0., 0., 0., 0., 0.,\n",
              "       0., 0., 0., 1., 0., 0., 0., 0., 0., 0., 1., 0., 1., 0., 0., 0., 0.,\n",
              "       1., 0., 0., 1., 0., 1., 1., 0., 0., 0., 0., 0., 0., 0., 0., 1., 1.,\n",
              "       0., 1., 1., 1., 1., 1., 1., 1., 1., 1., 1., 1., 1., 1., 1., 0., 1.,\n",
              "       0., 1., 1., 1., 1., 1., 1., 1., 1., 0., 1., 1., 1., 1., 1., 1., 1.,\n",
              "       1., 1., 1., 1., 1., 1., 1., 1., 1., 1., 1., 1., 1., 0., 1., 1., 1.,\n",
              "       1., 1., 1., 1., 0., 1., 1., 1., 1., 1., 1., 1., 0., 1., 1., 1., 1.,\n",
              "       1., 1., 1., 0., 1., 1., 1., 1., 1., 1., 1., 1., 1., 0., 1., 1., 1.,\n",
              "       1., 1., 1., 1., 1., 1., 1., 1., 1., 1., 1., 1., 1., 1., 1., 1., 0.,\n",
              "       1., 1., 1., 1., 1., 1.])"
            ]
          },
          "execution_count": 182,
          "metadata": {},
          "output_type": "execute_result"
        }
      ],
      "source": [
        "model = LinearDiscriminantAnalysis(solver='eigen').fit(X, y)\n",
        "model.predict(X)"
      ]
    },
    {
      "cell_type": "code",
      "execution_count": null,
      "metadata": {},
      "outputs": [],
      "source": []
    },
    {
      "cell_type": "markdown",
      "metadata": {
        "id": "tLfg8vX_QTae"
      },
      "source": [
        "# Problem 04: LDA by a Hand\n",
        "\n",
        "  Assume we have a 2D Binary Classification Dataset, with equal number of Datapoints in each class, and, using that Dataset, we are estimating:\n",
        "  $$\n",
        "  \\hat{\\mu}_1 = \\left[\\begin{array}{c} -1\\\\ 0 \\end{array}\\right], \\qquad \n",
        "  \\hat{\\mu}_2 = \\left[\\begin{array}{c} 4\\\\ 8 \\end{array}\\right],\\qquad \\hat{\\Sigma} = \\left[\\begin{array}{cc} 2 & 0\\\\ 0 & 1 \\end{array}\\right].\n",
        "  $$\n",
        "\n",
        "  Construct the Decision function and Decision Boundary of the LDA Classifier in this case.\n",
        "\n"
      ]
    },
    {
      "cell_type": "code",
      "execution_count": 178,
      "metadata": {},
      "outputs": [
        {
          "data": {
            "text/plain": [
              "array([[0.5, 0. ],\n",
              "       [0. , 1. ]])"
            ]
          },
          "execution_count": 178,
          "metadata": {},
          "output_type": "execute_result"
        }
      ],
      "source": [
        "np.linalg.inv(np.array([[2,0], [0,1]]))"
      ]
    },
    {
      "cell_type": "code",
      "execution_count": 180,
      "metadata": {},
      "outputs": [
        {
          "data": {
            "text/plain": [
              "array([36.])"
            ]
          },
          "execution_count": 180,
          "metadata": {},
          "output_type": "execute_result"
        }
      ],
      "source": [
        "np.array([2, 4]) @ np.array([[0.5, 0], [0,1]]) @ np.array([[4], [8]])"
      ]
    },
    {
      "cell_type": "code",
      "execution_count": 181,
      "metadata": {},
      "outputs": [
        {
          "data": {
            "text/plain": [
              "-0.6931471805599453"
            ]
          },
          "execution_count": 181,
          "metadata": {},
          "output_type": "execute_result"
        }
      ],
      "source": [
        "np.log(0.5)"
      ]
    },
    {
      "cell_type": "markdown",
      "metadata": {
        "id": "3CQ5mT_oi1BA"
      },
      "source": [
        "# Problem 05: Sigmoid Function\n",
        "\n",
        "  * Express the derivative of the Sigmoid function by itself\n",
        "  * (Python) Draw the graph of the Sigmoid function over $[-5,5]$"
      ]
    },
    {
      "cell_type": "code",
      "execution_count": 183,
      "metadata": {},
      "outputs": [
        {
          "data": {
            "text/plain": [
              "[<matplotlib.lines.Line2D at 0x7fcf586a6f70>]"
            ]
          },
          "execution_count": 183,
          "metadata": {},
          "output_type": "execute_result"
        },
        {
          "data": {
            "image/png": "[encoded data removed]",
            "text/plain": [
              "<Figure size 432x288 with 1 Axes>"
            ]
          },
          "metadata": {
            "needs_background": "light"
          },
          "output_type": "display_data"
        }
      ],
      "source": [
        "x_linspace = np.linspace(-5, 5, 100)\n",
        "y_sigmoid = np.e**x_linspace/(1+np.e**x_linspace)\n",
        "\n",
        "plt.plot(x_linspace, y_sigmoid)"
      ]
    },
    {
      "cell_type": "markdown",
      "metadata": {
        "id": "EKEx9Xo_hSqK"
      },
      "source": [
        "# Problem 06: Logistic Regression\n",
        "\n",
        "Assume we have a 2D Binary Classification Dataset (with Labels from $\\{0,1\\}$), and we are fitting a Logistic Regression model. Assume the trained values for the parameters (weights) are\n",
        "$$\n",
        "w_0 = -2, \\qquad w_1 = 1, \\qquad w_2 = -1.\n",
        "$$\n",
        "Also, we have a new Observation with the Feature vector $x = [2,3]$.\n",
        "\n",
        "  * Predict the Label of the new Observation\n",
        "  * Estimate the Probabilities that the new Observation belongs to the Class 0 and the Class 1\n",
        "  * Draw Decision Boundary and the Decision Regions"
      ]
    },
    {
      "cell_type": "code",
      "execution_count": 191,
      "metadata": {},
      "outputs": [],
      "source": [
        "x1 = np.random.uniform(0, 10, 100)\n",
        "x2 = np.random.uniform(0, 10, 100)\n",
        "\n",
        "lin_func = -2 + 1*x1 + (-1)*x2\n",
        "pred_prob = np.e**lin_func/(1+np.e**lin_func)"
      ]
    },
    {
      "cell_type": "code",
      "execution_count": 201,
      "metadata": {},
      "outputs": [],
      "source": [
        "y = np.where(pred_prob > 0.5, 1, 0)"
      ]
    },
    {
      "cell_type": "code",
      "execution_count": 203,
      "metadata": {},
      "outputs": [
        {
          "data": {
            "text/plain": [
              "[<matplotlib.lines.Line2D at 0x7fcf58548f40>]"
            ]
          },
          "execution_count": 203,
          "metadata": {},
          "output_type": "execute_result"
        },
        {
          "data": {
            "image/png": "[encoded data removed]",
            "text/plain": [
              "<Figure size 432x288 with 1 Axes>"
            ]
          },
          "metadata": {
            "needs_background": "light"
          },
          "output_type": "display_data"
        }
      ],
      "source": [
        "x_points = np.linspace(0, 10, 100)\n",
        "decision_boundary_line = -(1/(-1)) * x_points -(-2 / -1)\n",
        "plt.scatter(x1, x2, c=y)\n",
        "plt.plot(x_points, decision_boundary_line)"
      ]
    },
    {
      "cell_type": "code",
      "execution_count": 206,
      "metadata": {},
      "outputs": [
        {
          "data": {
            "image/png": "[encoded data removed]",
            "text/plain": [
              "<Figure size 1080x1440 with 1 Axes>"
            ]
          },
          "metadata": {
            "needs_background": "light"
          },
          "output_type": "display_data"
        }
      ],
      "source": [
        "from matplotlib import image\n",
        "img = image.imread(\"decision_boundary.png\")\n",
        "plt.figure(figsize=(15, 20))\n",
        "plt.imshow(img)\n",
        "plt.show()"
      ]
    },
    {
      "cell_type": "markdown",
      "metadata": {
        "id": "hK0G8VVvUMYC"
      },
      "source": [
        "# Problem 07: Logistic Regression Loss\n",
        "\n",
        "We are given the following Dataset of 3 Observations:\n",
        "\n",
        " | $X_1$ | $X_2$| $Y$ |\n",
        " | --| --| -- | \n",
        " | 0 | 0 | 0 |\n",
        " | 1 | 1 | 0 |\n",
        " | 0 | 1 | 1 | \n",
        "  \n",
        "and we want to fit a Logistic Regression Model.\n",
        "\n",
        " - Write down the Model\n",
        " - Write down the BCE Loss explicitly as a function of Model weights\n",
        " - (Python) Solve the BCE Loss minimization problem using some minimization algorithm in Python, and compare the result with the `sklearn` Logistic Regression Model fitted Model weights"
      ]
    },
    {
      "cell_type": "markdown",
      "metadata": {
        "id": "V7wQa_GNOLdR"
      },
      "source": [
        "# Problem 08: Margin Calculation\n",
        "\n",
        "We are given the following Dataset of 4 Observations:\n",
        "\n",
        " | $X_1$ | $X_2$| $Y$ |\n",
        " | --| --| -- | \n",
        " | 0 | 4 | -1 |\n",
        " | 0 | 2 | -1 |\n",
        " | -1 | 0 | 1 | \n",
        " | 2 | 0 | 1 | \n",
        "\n",
        "\n",
        "  * Find the Margin in the direction of the Line (Hyperplane)\n",
        "  $$\n",
        "  2x_1 - 3x_2 + 7 = 0\n",
        "  $$\n",
        "  * Find the Maximum Margin Separating Line (Hyperplane)\n",
        "  * Find the Label of the new Observation with Feature Vector $x = [1,1]^T$."
      ]
    },
    {
      "cell_type": "markdown",
      "metadata": {
        "id": "Z-6_P_6lWtxz"
      },
      "source": [
        "# (Python) Problem 09: Classification over Synthetic Dataset\n",
        "\n",
        "\n",
        "  * Generate a 2D Feature, 1D Target (Label) Binary Classification Dataset with a Size 550 using the `make_classification` function, by fixing the random state to 1234.\n",
        "  * Divide the Dataset into 75/25 Train/Test Datasets\n",
        "  * Fit LDA, QDA, Logistic Regression and SVM Models with different parameters, choose the Best Model among them\n",
        "  * Report the Accuracy of the Best Model chosen above over the Test Dataset\n",
        "  * Predict, using the model obtained in the last step, the Label of some custom (you give it!) observation\n"
      ]
    },
    {
      "cell_type": "code",
      "execution_count": 3,
      "metadata": {},
      "outputs": [],
      "source": [
        "X, y = make_classification(550, n_features=2, n_classes=2, n_redundant=0, random_state=1234)"
      ]
    },
    {
      "cell_type": "code",
      "execution_count": 4,
      "metadata": {},
      "outputs": [],
      "source": [
        "X_train, X_test, y_train, y_test = train_test_split(X, y, test_size=0.25, random_state=42)"
      ]
    },
    {
      "cell_type": "code",
      "execution_count": 5,
      "metadata": {},
      "outputs": [],
      "source": [
        "lda = LinearDiscriminantAnalysis().fit(X_train, y_train)\n",
        "qda = QuadraticDiscriminantAnalysis().fit(X_train, y_train)\n",
        "svm_rbf = SVC(kernel='rbf').fit(X_train, y_train)\n",
        "svm_linear = SVC(kernel='linear').fit(X_train, y_train)"
      ]
    },
    {
      "cell_type": "code",
      "execution_count": 6,
      "metadata": {},
      "outputs": [
        {
          "name": "stdout",
          "output_type": "stream",
          "text": [
            "LinearDiscriminantAnalysis() 0.927536231884058\n",
            "QuadraticDiscriminantAnalysis() 0.9202898550724637\n",
            "SVC() 0.9492753623188406\n",
            "SVC(kernel='linear') 0.9130434782608695\n"
          ]
        }
      ],
      "source": [
        "for i in [lda, qda, svm_rbf, svm_linear]:\n",
        "    print(i, i.score(X_test, y_test))"
      ]
    },
    {
      "cell_type": "code",
      "execution_count": 10,
      "metadata": {},
      "outputs": [
        {
          "data": {
            "text/plain": [
              "(2,)"
            ]
          },
          "execution_count": 10,
          "metadata": {},
          "output_type": "execute_result"
        }
      ],
      "source": [
        "X_test[0].shape"
      ]
    },
    {
      "cell_type": "code",
      "execution_count": 14,
      "metadata": {},
      "outputs": [
        {
          "data": {
            "text/plain": [
              "array([0])"
            ]
          },
          "execution_count": 14,
          "metadata": {},
          "output_type": "execute_result"
        }
      ],
      "source": [
        "svm_rbf.predict([X_test[0]])"
      ]
    },
    {
      "cell_type": "markdown",
      "metadata": {
        "id": "mGYYZxkDXDMC"
      },
      "source": [
        "# (Python) Problem 10: Scaling Effect\n",
        "\n",
        "To see if the scaling is affecting the SVM Performance, do the following Experiment:\n",
        "\n",
        "  * Generate a 2D Classification Dataset (call it the Original Dataset)\n",
        "  * Multiply one of the Features by 10^4, and obtain in this way a new Dataset (call it the Transformed Dataset)\n",
        "  * Use `SVC` and `LinearSVC` for both Datasets (with Training/Test splits), and calculate the Accuracies\n",
        "  * Predict the Label for some new Observation using both Models."
      ]
    },
    {
      "cell_type": "code",
      "execution_count": 32,
      "metadata": {},
      "outputs": [],
      "source": [
        "from copy import deepcopy\n",
        "X_orig, y = make_classification(1000, n_features=2, n_classes=2, n_redundant=0, random_state=1234)\n",
        "\n",
        "X_transf = deepcopy(X_orig)\n",
        "X_transf[:,0] = X_transf[:,0]*10**4"
      ]
    },
    {
      "cell_type": "code",
      "execution_count": 33,
      "metadata": {},
      "outputs": [
        {
          "name": "stdout",
          "output_type": "stream",
          "text": [
            "[0.05249977 0.02883937]\n",
            "[5.24997718e+02 2.88393697e-02]\n"
          ]
        }
      ],
      "source": [
        "print(X_orig.mean(axis=0))\n",
        "print(X_transf.mean(axis=0))"
      ]
    },
    {
      "cell_type": "code",
      "execution_count": 34,
      "metadata": {},
      "outputs": [],
      "source": [
        "X_train_orig, X_test_orig, y_train, y_test = train_test_split(X_orig, y, test_size=0.25, random_state=42)\n",
        "X_train_transf, X_test_transf, y_train, y_test = train_test_split(X_transf, y, test_size=0.25, random_state=42)"
      ]
    },
    {
      "cell_type": "code",
      "execution_count": 35,
      "metadata": {},
      "outputs": [
        {
          "name": "stderr",
          "output_type": "stream",
          "text": [
            "/home/hermine/anaconda3/lib/python3.9/site-packages/sklearn/svm/_base.py:985: ConvergenceWarning: Liblinear failed to converge, increase the number of iterations.\n",
            "  warnings.warn(\"Liblinear failed to converge, increase \"\n"
          ]
        }
      ],
      "source": [
        "svc_orig = SVC().fit(X_train_orig, y_train)\n",
        "svc_transf = SVC().fit(X_train_transf, y_train)\n",
        "\n",
        "svc_linear_orig = LinearSVC().fit(X_train_orig, y_train)\n",
        "svc_linear_transf = LinearSVC().fit(X_train_transf, y_train)"
      ]
    },
    {
      "cell_type": "code",
      "execution_count": 36,
      "metadata": {},
      "outputs": [
        {
          "name": "stdout",
          "output_type": "stream",
          "text": [
            "Original dataset\n",
            "SVC() 0.968\n",
            "LinearSVC() 0.968\n"
          ]
        }
      ],
      "source": [
        "print('Original dataset')\n",
        "for i in svc_orig, svc_linear_orig:\n",
        "    print(i, i.score(X_test_orig, y_test))"
      ]
    },
    {
      "cell_type": "code",
      "execution_count": 37,
      "metadata": {},
      "outputs": [
        {
          "name": "stdout",
          "output_type": "stream",
          "text": [
            "Transformed dataset\n",
            "SVC() 0.612\n",
            "LinearSVC() 0.66\n"
          ]
        }
      ],
      "source": [
        "print('Transformed dataset')\n",
        "for i in svc_transf, svc_linear_transf:\n",
        "    print(i, i.score(X_test_transf, y_test))"
      ]
    },
    {
      "cell_type": "code",
      "execution_count": 38,
      "metadata": {},
      "outputs": [
        {
          "data": {
            "text/plain": [
              "array([0])"
            ]
          },
          "execution_count": 38,
          "metadata": {},
          "output_type": "execute_result"
        }
      ],
      "source": [
        "svc_orig.predict([X_test_orig[0]])"
      ]
    },
    {
      "cell_type": "code",
      "execution_count": 39,
      "metadata": {},
      "outputs": [
        {
          "data": {
            "text/plain": [
              "array([1])"
            ]
          },
          "execution_count": 39,
          "metadata": {},
          "output_type": "execute_result"
        }
      ],
      "source": [
        "svc_transf.predict([X_test_transf[0]])"
      ]
    },
    {
      "cell_type": "markdown",
      "metadata": {
        "id": "b2xsdQ4gX7Pt"
      },
      "source": [
        "# Problem 11: Scaling by a Hand\n",
        "\n",
        "We are given the following Dataset\n",
        "\n",
        " | $X_1$ | $X_2$| $Y$ |\n",
        " | --| --| -- | \n",
        " | 0 | 4 | -1 |\n",
        " | 0 | 2 | -1 |\n",
        " | -1 | 0 | 1 | \n",
        " | 2 | 0 | 1 | \n",
        "\n",
        "\n",
        "Do, by a Hand, MinMax Scaling and Standard Scaling.  Scale also the new Observation with Feature Vector $x = [2,2]^T$."
      ]
    },
    {
      "cell_type": "code",
      "execution_count": 12,
      "metadata": {},
      "outputs": [],
      "source": [
        "def min_max_scaling(vec):\n",
        "    min_ = np.min(vec)\n",
        "    max_ = np.max(vec)\n",
        "    \n",
        "    return {'min': min_, 'max': max_, 'scaled': (vec - min_) / (max_ - min_)}\n",
        "\n",
        "def min_max_transform(training_vec, feature_vec):\n",
        "    min_max_df = min_max_scaling(training_vec)\n",
        "    \n",
        "    return (feature_vec - min_max_df['min']) / (min_max_df['max'] - min_max_df['min'])"
      ]
    },
    {
      "cell_type": "code",
      "execution_count": 21,
      "metadata": {},
      "outputs": [],
      "source": [
        "def standard_scaling(vec):\n",
        "    mean_ = np.mean(vec)\n",
        "    std_ = np.std(vec)\n",
        "    \n",
        "    return {'mean': mean_, \"std\": std_, 'scaled': (vec - mean_)/std_}\n",
        "\n",
        "def standard_transform(training_vec, feature_vec):\n",
        "    standard_df = standard_scaling(training_vec)\n",
        "    \n",
        "    return (feature_vec - standard_df['mean'])/standard_df['std']"
      ]
    },
    {
      "cell_type": "code",
      "execution_count": 22,
      "metadata": {},
      "outputs": [],
      "source": [
        "x1 = [0, 0, -1, 2]\n",
        "x2 = [4, 2, 0, 0]\n",
        "feature_vec = [2, 2]"
      ]
    },
    {
      "cell_type": "code",
      "execution_count": 24,
      "metadata": {},
      "outputs": [
        {
          "name": "stdout",
          "output_type": "stream",
          "text": [
            "min_max scaling 1.0 0.5\n",
            "standard scaling 1.6059101370939322 0.30151134457776363\n"
          ]
        }
      ],
      "source": [
        "print('min_max scaling', min_max_transform(x1, feature_vec[0]), min_max_transform(x2, feature_vec[1]))\n",
        "print('standard scaling', standard_transform(x1, feature_vec[0]), standard_transform(x2, feature_vec[1]))"
      ]
    },
    {
      "cell_type": "markdown",
      "metadata": {
        "id": "CyPGScQ9XG3d"
      },
      "source": [
        "# (Python) Problem 12: MNIST Classification\n",
        "\n",
        "Try different Classification Algorithms (kNN, NB, LDA, QDA, LR, SVM with different kernels, LinearSVM) for MNIST Dataset. Try different parameters, choose the Best Model among the considered ones. Report the generalization Accuracy. "
      ]
    },
    {
      "cell_type": "code",
      "execution_count": 1,
      "metadata": {},
      "outputs": [
        {
          "name": "stderr",
          "output_type": "stream",
          "text": [
            "2022-04-17 23:20:44.984351: W tensorflow/stream_executor/platform/default/dso_loader.cc:64] Could not load dynamic library 'libcudart.so.11.0'; dlerror: libcudart.so.11.0: cannot open shared object file: No such file or directory\n",
            "2022-04-17 23:20:44.984499: I tensorflow/stream_executor/cuda/cudart_stub.cc:29] Ignore above cudart dlerror if you do not have a GPU set up on your machine.\n"
          ]
        }
      ],
      "source": [
        "from keras.datasets import mnist"
      ]
    },
    {
      "cell_type": "code",
      "execution_count": 2,
      "metadata": {},
      "outputs": [],
      "source": [
        "(X_train, y_train), (X_test, y_test) = mnist.load_data()"
      ]
    },
    {
      "cell_type": "code",
      "execution_count": 3,
      "metadata": {},
      "outputs": [
        {
          "data": {
            "text/plain": [
              "((60000, 28, 28), (10000, 28, 28))"
            ]
          },
          "execution_count": 3,
          "metadata": {},
          "output_type": "execute_result"
        }
      ],
      "source": [
        "X_train.shape, X_test.shape"
      ]
    },
    {
      "cell_type": "code",
      "execution_count": 7,
      "metadata": {},
      "outputs": [],
      "source": [
        "X_train_flat = []\n",
        "for i in range(X_train.shape[0]):\n",
        "    X_train_flat.append(X_train[i].flatten())\n",
        "    \n",
        "X_test_flat = []\n",
        "for i in range(X_test.shape[0]):\n",
        "    X_test_flat.append(X_test[i].flatten())"
      ]
    },
    {
      "cell_type": "code",
      "execution_count": 8,
      "metadata": {},
      "outputs": [],
      "source": [
        "X_train = np.array(X_train_flat)\n",
        "X_test = np.array(X_test_flat)"
      ]
    },
    {
      "cell_type": "code",
      "execution_count": 13,
      "metadata": {},
      "outputs": [
        {
          "data": {
            "text/plain": [
              "array([  0,   0,   0,   0,   0,   0,   0,   0,   0,   0,   0,   0,   0,\n",
              "         0,   0,   0,   0,   0,   0,   0,   0,   0,   0,   0,   0,   0,\n",
              "         0,   0,   0,   0,   0,   0,   0,   0,   0,   0,   0,   0,   0,\n",
              "         0,   0,   0,   0,   0,   0,   0,   0,   0,   0,   0,   0,   0,\n",
              "         0,   0,   0,   0,   0,   0,   0,   0,   0,   0,   0,   0,   0,\n",
              "         0,   0,   0,   0,   0,   0,   0,   0,   0,   0,   0,   0,   0,\n",
              "         0,   0,   0,   0,   0,   0,   0,   0,   0,   0,   0,   0,   0,\n",
              "         0,   0,   0,   0,   0,   0,   0,   0,   0,   0,   0,   0,   0,\n",
              "         0,   0,   0,   0,   0,   0,   0,   0,   0,   0,   0,   0,   0,\n",
              "         0,   0,   0,   0,   0,   0,   0,   0,   0,   0,   0,   0,   0,\n",
              "         0,   0,   0,   0,   0,   0,   0,   0,   0,   0,   0,   0,   0,\n",
              "         0,   0,   0,   0,   0,   0,   0,   0,   0,   0,   0,   0,   0,\n",
              "         0,   0,   0,   0,   0,   0,   0,   0,   0,   0,   0,   0,   0,\n",
              "         0,   0,   0,   0,   0,   0,   0,   0,   0,   0,   0,   0,   0,\n",
              "         0,   0,   0,   0,   0,   0,   0,   0,   0,   0,   0,   0,   0,\n",
              "         0,   0,   0,   0,   0,   0,   0,  84, 185, 159, 151,  60,  36,\n",
              "         0,   0,   0,   0,   0,   0,   0,   0,   0,   0,   0,   0,   0,\n",
              "         0,   0,   0,   0,   0,   0,   0,   0,   0, 222, 254, 254, 254,\n",
              "       254, 241, 198, 198, 198, 198, 198, 198, 198, 198, 170,  52,   0,\n",
              "         0,   0,   0,   0,   0,   0,   0,   0,   0,   0,   0,  67, 114,\n",
              "        72, 114, 163, 227, 254, 225, 254, 254, 254, 250, 229, 254, 254,\n",
              "       140,   0,   0,   0,   0,   0,   0,   0,   0,   0,   0,   0,   0,\n",
              "         0,   0,   0,   0,   0,  17,  66,  14,  67,  67,  67,  59,  21,\n",
              "       236, 254, 106,   0,   0,   0,   0,   0,   0,   0,   0,   0,   0,\n",
              "         0,   0,   0,   0,   0,   0,   0,   0,   0,   0,   0,   0,   0,\n",
              "         0,  83, 253, 209,  18,   0,   0,   0,   0,   0,   0,   0,   0,\n",
              "         0,   0,   0,   0,   0,   0,   0,   0,   0,   0,   0,   0,   0,\n",
              "         0,   0,  22, 233, 255,  83,   0,   0,   0,   0,   0,   0,   0,\n",
              "         0,   0,   0,   0,   0,   0,   0,   0,   0,   0,   0,   0,   0,\n",
              "         0,   0,   0,   0, 129, 254, 238,  44,   0,   0,   0,   0,   0,\n",
              "         0,   0,   0,   0,   0,   0,   0,   0,   0,   0,   0,   0,   0,\n",
              "         0,   0,   0,   0,   0,  59, 249, 254,  62,   0,   0,   0,   0,\n",
              "         0,   0,   0,   0,   0,   0,   0,   0,   0,   0,   0,   0,   0,\n",
              "         0,   0,   0,   0,   0,   0,   0, 133, 254, 187,   5,   0,   0,\n",
              "         0,   0,   0,   0,   0,   0,   0,   0,   0,   0,   0,   0,   0,\n",
              "         0,   0,   0,   0,   0,   0,   0,   0,   9, 205, 248,  58,   0,\n",
              "         0,   0,   0,   0,   0,   0,   0,   0,   0,   0,   0,   0,   0,\n",
              "         0,   0,   0,   0,   0,   0,   0,   0,   0,   0, 126, 254, 182,\n",
              "         0,   0,   0,   0,   0,   0,   0,   0,   0,   0,   0,   0,   0,\n",
              "         0,   0,   0,   0,   0,   0,   0,   0,   0,   0,   0,  75, 251,\n",
              "       240,  57,   0,   0,   0,   0,   0,   0,   0,   0,   0,   0,   0,\n",
              "         0,   0,   0,   0,   0,   0,   0,   0,   0,   0,   0,   0,  19,\n",
              "       221, 254, 166,   0,   0,   0,   0,   0,   0,   0,   0,   0,   0,\n",
              "         0,   0,   0,   0,   0,   0,   0,   0,   0,   0,   0,   0,   0,\n",
              "         3, 203, 254, 219,  35,   0,   0,   0,   0,   0,   0,   0,   0,\n",
              "         0,   0,   0,   0,   0,   0,   0,   0,   0,   0,   0,   0,   0,\n",
              "         0,   0,  38, 254, 254,  77,   0,   0,   0,   0,   0,   0,   0,\n",
              "         0,   0,   0,   0,   0,   0,   0,   0,   0,   0,   0,   0,   0,\n",
              "         0,   0,   0,  31, 224, 254, 115,   1,   0,   0,   0,   0,   0,\n",
              "         0,   0,   0,   0,   0,   0,   0,   0,   0,   0,   0,   0,   0,\n",
              "         0,   0,   0,   0,   0, 133, 254, 254,  52,   0,   0,   0,   0,\n",
              "         0,   0,   0,   0,   0,   0,   0,   0,   0,   0,   0,   0,   0,\n",
              "         0,   0,   0,   0,   0,   0,  61, 242, 254, 254,  52,   0,   0,\n",
              "         0,   0,   0,   0,   0,   0,   0,   0,   0,   0,   0,   0,   0,\n",
              "         0,   0,   0,   0,   0,   0,   0,   0, 121, 254, 254, 219,  40,\n",
              "         0,   0,   0,   0,   0,   0,   0,   0,   0,   0,   0,   0,   0,\n",
              "         0,   0,   0,   0,   0,   0,   0,   0,   0,   0, 121, 254, 207,\n",
              "        18,   0,   0,   0,   0,   0,   0,   0,   0,   0,   0,   0,   0,\n",
              "         0,   0,   0,   0,   0,   0,   0,   0,   0,   0,   0,   0,   0,\n",
              "         0,   0,   0,   0,   0,   0,   0,   0,   0,   0,   0,   0,   0,\n",
              "         0,   0,   0,   0], dtype=uint8)"
            ]
          },
          "execution_count": 13,
          "metadata": {},
          "output_type": "execute_result"
        }
      ],
      "source": [
        "X_test[0]"
      ]
    },
    {
      "cell_type": "code",
      "execution_count": 31,
      "metadata": {},
      "outputs": [
        {
          "name": "stdout",
          "output_type": "stream",
          "text": [
            "1\n",
            "2\n",
            "3\n"
          ]
        },
        {
          "name": "stderr",
          "output_type": "stream",
          "text": [
            "/home/hermine/anaconda3/lib/python3.9/site-packages/sklearn/discriminant_analysis.py:808: UserWarning: Variables are collinear\n",
            "  warnings.warn(\"Variables are collinear\")\n"
          ]
        },
        {
          "name": "stdout",
          "output_type": "stream",
          "text": [
            "4\n",
            "5\n",
            "6\n",
            "7\n"
          ]
        }
      ],
      "source": [
        "knn = KNeighborsRegressor().fit(X_train, y_train)\n",
        "print(1)\n",
        "nb = GaussianNB().fit(X_train, y_train)\n",
        "print(2)\n",
        "lda = LinearDiscriminantAnalysis().fit(X_train, y_train)\n",
        "print(3)\n",
        "qda = QuadraticDiscriminantAnalysis().fit(X_train, y_train)\n",
        "print(4)\n",
        "lr = LinearRegression().fit(X_train, y_train)\n",
        "print(5)\n",
        "svm_rbf = SVC(kernel='rbf').fit(X_train, y_train)\n",
        "print(6)\n",
        "svm_poly = SVC(kernel='poly').fit(X_train, y_train)\n",
        "print(7)\n",
        "svc_linear = SVC(kernel='linear').fit(X_train, y_train)\n",
        "print(8)\n",
        "svm_linear = LinearSVC().fit(X_train, y_train)"
      ]
    },
    {
      "cell_type": "code",
      "execution_count": null,
      "metadata": {},
      "outputs": [],
      "source": [
        "for i in [knn, nb, lda, lr, svm_rbf, svm_poly, svc_linear, svm_linear]:\n",
        "    print(i, i.score(X_test, y_test))"
      ]
    },
    {
      "cell_type": "markdown",
      "metadata": {
        "id": "ktBTof0dwILO"
      },
      "source": [
        "# (Python) Problem 13: Fashion MNIST Classification\n",
        "\n",
        "[Fashion MNIST](https://github.com/zalandoresearch/fashion-mnist) is an alternative MNIST Dataset. Solve the previous problem for Fashion MNIST Dataset. Take some real images of different Fashion items (T-shirts, Bags, Shoes,...) and predict their Labels using the Best Model chosen."
      ]
    },
    {
      "cell_type": "code",
      "execution_count": null,
      "metadata": {},
      "outputs": [],
      "source": []
    },
    {
      "cell_type": "code",
      "execution_count": null,
      "metadata": {},
      "outputs": [],
      "source": []
    },
    {
      "cell_type": "code",
      "execution_count": null,
      "metadata": {},
      "outputs": [],
      "source": []
    },
    {
      "cell_type": "code",
      "execution_count": null,
      "metadata": {},
      "outputs": [],
      "source": []
    }
  ],
  "metadata": {
    "colab": {
      "collapsed_sections": [],
      "name": "Homework 05, LDA, QDA, LR, SVM.ipynb",
      "provenance": []
    },
    "kernelspec": {
      "display_name": "Python 3",
      "name": "python3"
    },
    "language_info": {
      "codemirror_mode": {
        "name": "ipython",
        "version": 3
      },
      "file_extension": ".py",
      "mimetype": "text/x-python",
      "name": "python",
      "nbconvert_exporter": "python",
      "pygments_lexer": "ipython3",
      "version": "3.9.7"
    }
  },
  "nbformat": 4,
  "nbformat_minor": 0
}
