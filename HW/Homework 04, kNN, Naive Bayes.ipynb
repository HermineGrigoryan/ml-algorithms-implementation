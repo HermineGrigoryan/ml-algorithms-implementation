{
 "cells": [
  {
   "cell_type": "markdown",
   "metadata": {
    "id": "UXxWWRFr5XOK"
   },
   "source": [
    "<center>\n",
    "        <h1>CS 251/340 Machine Learning</h1>\n",
    "        <h2>AUA, Spring 2022</h2>\n",
    "        <h1> Homework 04 </h1>\n",
    "</center>"
   ]
  },
  {
   "cell_type": "code",
   "execution_count": 1,
   "metadata": {},
   "outputs": [],
   "source": [
    "import numpy as np\n",
    "import pandas as pd\n",
    "\n",
    "from sklearn.datasets import make_classification, make_regression\n",
    "from sklearn.model_selection import train_test_split, cross_val_score\n",
    "from sklearn.preprocessing import MinMaxScaler, StandardScaler\n",
    "from sklearn.pipeline import Pipeline\n",
    "\n",
    "from sklearn.metrics import mean_squared_error\n",
    "\n",
    "from sklearn.neighbors import KNeighborsClassifier, KNeighborsRegressor\n",
    "from sklearn.linear_model import Ridge, LinearRegression\n",
    "\n",
    "import matplotlib.pyplot as plt"
   ]
  },
  {
   "cell_type": "markdown",
   "metadata": {
    "id": "VzVPwIkCSQbe"
   },
   "source": [
    "# Problem 01: 1D kNN Classification\n",
    "\n",
    " We are given the following Dataset of 8 Observations:\n",
    "\n",
    " | X | Y|\n",
    " | --| --|\n",
    " | 1 | 1 |\n",
    " | 1.5 | 1 |\n",
    " | 2 | 0 |\n",
    " | 4 | 0 |\n",
    " | 0 | 1 |\n",
    " | -2 | 1 |\n",
    " | -5 | 0 |\n",
    " | -4 | 0 |\n",
    "\n",
    "\n",
    "\n",
    "  * Using $kNN$ with $k = 3$ and the Euclidean Distance, predict the Label of the observation with the Feature $x = 1.2$;\n",
    "  * Draw the Decision Regions and Decision boundary in this case\n",
    "  * (Python) Implement the Binary Classification 1D $kNN$ from the scratch"
   ]
  },
  {
   "cell_type": "code",
   "execution_count": 2,
   "metadata": {
    "id": "AGDcR1H5ZeZc"
   },
   "outputs": [
    {
     "data": {
      "text/plain": [
       "'/home/hermine/Desktop/ml-algorithms-implementation'"
      ]
     },
     "execution_count": 2,
     "metadata": {},
     "output_type": "execute_result"
    }
   ],
   "source": [
    "import os\n",
    "os.chdir('..')\n",
    "os.getcwd()"
   ]
  },
  {
   "cell_type": "code",
   "execution_count": 3,
   "metadata": {},
   "outputs": [],
   "source": [
    "import KNN"
   ]
  },
  {
   "cell_type": "code",
   "execution_count": 4,
   "metadata": {},
   "outputs": [
    {
     "data": {
      "text/plain": [
       "array([1., 1., 1., 1., 1., 1., 1., 1., 1., 1., 1., 1., 1., 1., 1., 1., 1.,\n",
       "       1., 1., 1., 1., 1., 1., 1., 1., 1., 1., 1., 1., 1., 1., 1., 1., 1.,\n",
       "       1., 1., 1., 1., 1., 1., 1., 1., 1., 1., 1., 1., 1., 1., 1., 1., 1.,\n",
       "       1., 1., 1., 1., 1., 1., 1., 1., 1., 1., 1., 1., 1., 1., 1., 1., 1.,\n",
       "       1., 1., 1., 1., 1., 1., 1., 1., 1., 1., 1., 1., 1., 1., 1., 1., 1.,\n",
       "       1., 1., 1., 1., 1., 1., 1., 1., 1., 1., 1., 1., 1., 1., 1.])"
      ]
     },
     "execution_count": 4,
     "metadata": {},
     "output_type": "execute_result"
    }
   ],
   "source": [
    "np.ones(100)"
   ]
  },
  {
   "cell_type": "code",
   "execution_count": 5,
   "metadata": {},
   "outputs": [
    {
     "data": {
      "image/png": "[encoded data removed]",
      "text/plain": [
       "<Figure size 1080x288 with 1 Axes>"
      ]
     },
     "metadata": {
      "needs_background": "light"
     },
     "output_type": "display_data"
    }
   ],
   "source": [
    "X = np.array([1, 1.5, 2, 4, 0, -2, -5, -4])\n",
    "Y = np.array([1,1,0,0,1,1,0,0])\n",
    "model = KNN.KnnClassifier(X, Y, 3)\n",
    "new_x = np.linspace(-10, 10, 1000)\n",
    "new_y = np.ones(1000)\n",
    "predictions = model.predict(new_x)\n",
    "\n",
    "plt.figure(figsize=(15, 4))\n",
    "plt.scatter(new_x, new_y, c=predictions)\n",
    "plt.scatter(X, np.ones(len(X))*0.001, c=Y)\n",
    "plt.show()"
   ]
  },
  {
   "cell_type": "code",
   "execution_count": 6,
   "metadata": {},
   "outputs": [
    {
     "data": {
      "text/plain": [
       "[0.19999999999999996, 0.30000000000000004, 0.8, 2.8, 1.2, 3.2, 6.2, 5.2]"
      ]
     },
     "execution_count": 6,
     "metadata": {},
     "output_type": "execute_result"
    }
   ],
   "source": [
    "[KNN.distance_metric(x, 1.2) for x in X]"
   ]
  },
  {
   "cell_type": "markdown",
   "metadata": {
    "id": "hNbh9uBMWZGq"
   },
   "source": [
    "# Problem 02: 2D kNN Classification\n",
    "\n",
    " We are given the following Dataset of 3 Observations:\n",
    "\n",
    " | $X_1$ | $X_2$| $Y$ |\n",
    " | --| --| -- | \n",
    " | 0 | 0 | 0 |\n",
    " | 1 | 1 | 0 |\n",
    " | 0 | 1 | 1 | \n",
    " \n",
    "\n",
    "  * Using $kNN$ with $k = 1$, $k=3$, $k=5$ and Euclidean Distance, draw the Decision Regions and Decision boundaries in each case"
   ]
  },
  {
   "cell_type": "code",
   "execution_count": 7,
   "metadata": {},
   "outputs": [
    {
     "name": "stdout",
     "output_type": "stream",
     "text": [
      "(2, 3)\n"
     ]
    }
   ],
   "source": [
    "X = np.array([[0, 1, 0], [0, 1, 1]])\n",
    "print(X.shape)\n",
    "Y = np.array([0, 0, 1])\n",
    "model = KNN.KnnClassifier(X, Y, 3)"
   ]
  },
  {
   "cell_type": "code",
   "execution_count": 8,
   "metadata": {},
   "outputs": [
    {
     "data": {
      "text/plain": [
       "array([1., 1., 1., 1., 1., 1., 1., 1., 1., 1., 1., 1., 1., 1., 1., 1., 1.,\n",
       "       1., 1., 1., 1., 1., 1., 1., 1., 1., 1., 1., 1., 1., 1., 1., 1., 1.,\n",
       "       1., 1., 1., 1., 1., 1.])"
      ]
     },
     "execution_count": 8,
     "metadata": {},
     "output_type": "execute_result"
    }
   ],
   "source": [
    "x_linspace = []\n",
    "for i in range(2):\n",
    "    min_, max_ = min(X[:,i]), max(X[:,i])\n",
    "    x_linspace.append(np.linspace(min_, max_, num = 40))\n",
    "\n",
    "x_linspace[1]\n",
    "\n",
    "# new_x = [[one, two, three, four] for one in x_linspace[0] for two in x_linspace[1] for three in x_linspace[2] for four in x_linspace[3]]\n",
    "# new_x = [[one, two] for one in x_linspace[0] for two in x_linspace[1]]"
   ]
  },
  {
   "cell_type": "code",
   "execution_count": 9,
   "metadata": {},
   "outputs": [
    {
     "data": {
      "text/plain": [
       "array([-10.        ,  -9.97997998,  -9.95995996,  -9.93993994,\n",
       "        -9.91991992,  -9.8998999 ,  -9.87987988,  -9.85985986,\n",
       "        -9.83983984,  -9.81981982,  -9.7997998 ,  -9.77977978,\n",
       "        -9.75975976,  -9.73973974,  -9.71971972,  -9.6996997 ,\n",
       "        -9.67967968,  -9.65965966,  -9.63963964,  -9.61961962,\n",
       "        -9.5995996 ,  -9.57957958,  -9.55955956,  -9.53953954,\n",
       "        -9.51951952,  -9.4994995 ,  -9.47947948,  -9.45945946,\n",
       "        -9.43943944,  -9.41941942,  -9.3993994 ,  -9.37937938,\n",
       "        -9.35935936,  -9.33933934,  -9.31931932,  -9.2992993 ,\n",
       "        -9.27927928,  -9.25925926,  -9.23923924,  -9.21921922,\n",
       "        -9.1991992 ,  -9.17917918,  -9.15915916,  -9.13913914,\n",
       "        -9.11911912,  -9.0990991 ,  -9.07907908,  -9.05905906,\n",
       "        -9.03903904,  -9.01901902,  -8.998999  ,  -8.97897898,\n",
       "        -8.95895896,  -8.93893894,  -8.91891892,  -8.8988989 ,\n",
       "        -8.87887888,  -8.85885886,  -8.83883884,  -8.81881882,\n",
       "        -8.7987988 ,  -8.77877878,  -8.75875876,  -8.73873874,\n",
       "        -8.71871872,  -8.6986987 ,  -8.67867868,  -8.65865866,\n",
       "        -8.63863864,  -8.61861862,  -8.5985986 ,  -8.57857858,\n",
       "        -8.55855856,  -8.53853854,  -8.51851852,  -8.4984985 ,\n",
       "        -8.47847848,  -8.45845846,  -8.43843844,  -8.41841842,\n",
       "        -8.3983984 ,  -8.37837838,  -8.35835836,  -8.33833834,\n",
       "        -8.31831832,  -8.2982983 ,  -8.27827828,  -8.25825826,\n",
       "        -8.23823824,  -8.21821822,  -8.1981982 ,  -8.17817818,\n",
       "        -8.15815816,  -8.13813814,  -8.11811812,  -8.0980981 ,\n",
       "        -8.07807808,  -8.05805806,  -8.03803804,  -8.01801802,\n",
       "        -7.997998  ,  -7.97797798,  -7.95795796,  -7.93793794,\n",
       "        -7.91791792,  -7.8978979 ,  -7.87787788,  -7.85785786,\n",
       "        -7.83783784,  -7.81781782,  -7.7977978 ,  -7.77777778,\n",
       "        -7.75775776,  -7.73773774,  -7.71771772,  -7.6976977 ,\n",
       "        -7.67767768,  -7.65765766,  -7.63763764,  -7.61761762,\n",
       "        -7.5975976 ,  -7.57757758,  -7.55755756,  -7.53753754,\n",
       "        -7.51751752,  -7.4974975 ,  -7.47747748,  -7.45745746,\n",
       "        -7.43743744,  -7.41741742,  -7.3973974 ,  -7.37737738,\n",
       "        -7.35735736,  -7.33733734,  -7.31731732,  -7.2972973 ,\n",
       "        -7.27727728,  -7.25725726,  -7.23723724,  -7.21721722,\n",
       "        -7.1971972 ,  -7.17717718,  -7.15715716,  -7.13713714,\n",
       "        -7.11711712,  -7.0970971 ,  -7.07707708,  -7.05705706,\n",
       "        -7.03703704,  -7.01701702,  -6.996997  ,  -6.97697698,\n",
       "        -6.95695696,  -6.93693694,  -6.91691692,  -6.8968969 ,\n",
       "        -6.87687688,  -6.85685686,  -6.83683684,  -6.81681682,\n",
       "        -6.7967968 ,  -6.77677678,  -6.75675676,  -6.73673674,\n",
       "        -6.71671672,  -6.6966967 ,  -6.67667668,  -6.65665666,\n",
       "        -6.63663664,  -6.61661662,  -6.5965966 ,  -6.57657658,\n",
       "        -6.55655656,  -6.53653654,  -6.51651652,  -6.4964965 ,\n",
       "        -6.47647648,  -6.45645646,  -6.43643644,  -6.41641642,\n",
       "        -6.3963964 ,  -6.37637638,  -6.35635636,  -6.33633634,\n",
       "        -6.31631632,  -6.2962963 ,  -6.27627628,  -6.25625626,\n",
       "        -6.23623624,  -6.21621622,  -6.1961962 ,  -6.17617618,\n",
       "        -6.15615616,  -6.13613614,  -6.11611612,  -6.0960961 ,\n",
       "        -6.07607608,  -6.05605606,  -6.03603604,  -6.01601602,\n",
       "        -5.995996  ,  -5.97597598,  -5.95595596,  -5.93593594,\n",
       "        -5.91591592,  -5.8958959 ,  -5.87587588,  -5.85585586,\n",
       "        -5.83583584,  -5.81581582,  -5.7957958 ,  -5.77577578,\n",
       "        -5.75575576,  -5.73573574,  -5.71571572,  -5.6956957 ,\n",
       "        -5.67567568,  -5.65565566,  -5.63563564,  -5.61561562,\n",
       "        -5.5955956 ,  -5.57557558,  -5.55555556,  -5.53553554,\n",
       "        -5.51551552,  -5.4954955 ,  -5.47547548,  -5.45545546,\n",
       "        -5.43543544,  -5.41541542,  -5.3953954 ,  -5.37537538,\n",
       "        -5.35535536,  -5.33533534,  -5.31531532,  -5.2952953 ,\n",
       "        -5.27527528,  -5.25525526,  -5.23523524,  -5.21521522,\n",
       "        -5.1951952 ,  -5.17517518,  -5.15515516,  -5.13513514,\n",
       "        -5.11511512,  -5.0950951 ,  -5.07507508,  -5.05505506,\n",
       "        -5.03503504,  -5.01501502,  -4.99499499,  -4.97497497,\n",
       "        -4.95495495,  -4.93493493,  -4.91491491,  -4.89489489,\n",
       "        -4.87487487,  -4.85485485,  -4.83483483,  -4.81481481,\n",
       "        -4.79479479,  -4.77477477,  -4.75475475,  -4.73473473,\n",
       "        -4.71471471,  -4.69469469,  -4.67467467,  -4.65465465,\n",
       "        -4.63463463,  -4.61461461,  -4.59459459,  -4.57457457,\n",
       "        -4.55455455,  -4.53453453,  -4.51451451,  -4.49449449,\n",
       "        -4.47447447,  -4.45445445,  -4.43443443,  -4.41441441,\n",
       "        -4.39439439,  -4.37437437,  -4.35435435,  -4.33433433,\n",
       "        -4.31431431,  -4.29429429,  -4.27427427,  -4.25425425,\n",
       "        -4.23423423,  -4.21421421,  -4.19419419,  -4.17417417,\n",
       "        -4.15415415,  -4.13413413,  -4.11411411,  -4.09409409,\n",
       "        -4.07407407,  -4.05405405,  -4.03403403,  -4.01401401,\n",
       "        -3.99399399,  -3.97397397,  -3.95395395,  -3.93393393,\n",
       "        -3.91391391,  -3.89389389,  -3.87387387,  -3.85385385,\n",
       "        -3.83383383,  -3.81381381,  -3.79379379,  -3.77377377,\n",
       "        -3.75375375,  -3.73373373,  -3.71371371,  -3.69369369,\n",
       "        -3.67367367,  -3.65365365,  -3.63363363,  -3.61361361,\n",
       "        -3.59359359,  -3.57357357,  -3.55355355,  -3.53353353,\n",
       "        -3.51351351,  -3.49349349,  -3.47347347,  -3.45345345,\n",
       "        -3.43343343,  -3.41341341,  -3.39339339,  -3.37337337,\n",
       "        -3.35335335,  -3.33333333,  -3.31331331,  -3.29329329,\n",
       "        -3.27327327,  -3.25325325,  -3.23323323,  -3.21321321,\n",
       "        -3.19319319,  -3.17317317,  -3.15315315,  -3.13313313,\n",
       "        -3.11311311,  -3.09309309,  -3.07307307,  -3.05305305,\n",
       "        -3.03303303,  -3.01301301,  -2.99299299,  -2.97297297,\n",
       "        -2.95295295,  -2.93293293,  -2.91291291,  -2.89289289,\n",
       "        -2.87287287,  -2.85285285,  -2.83283283,  -2.81281281,\n",
       "        -2.79279279,  -2.77277277,  -2.75275275,  -2.73273273,\n",
       "        -2.71271271,  -2.69269269,  -2.67267267,  -2.65265265,\n",
       "        -2.63263263,  -2.61261261,  -2.59259259,  -2.57257257,\n",
       "        -2.55255255,  -2.53253253,  -2.51251251,  -2.49249249,\n",
       "        -2.47247247,  -2.45245245,  -2.43243243,  -2.41241241,\n",
       "        -2.39239239,  -2.37237237,  -2.35235235,  -2.33233233,\n",
       "        -2.31231231,  -2.29229229,  -2.27227227,  -2.25225225,\n",
       "        -2.23223223,  -2.21221221,  -2.19219219,  -2.17217217,\n",
       "        -2.15215215,  -2.13213213,  -2.11211211,  -2.09209209,\n",
       "        -2.07207207,  -2.05205205,  -2.03203203,  -2.01201201,\n",
       "        -1.99199199,  -1.97197197,  -1.95195195,  -1.93193193,\n",
       "        -1.91191191,  -1.89189189,  -1.87187187,  -1.85185185,\n",
       "        -1.83183183,  -1.81181181,  -1.79179179,  -1.77177177,\n",
       "        -1.75175175,  -1.73173173,  -1.71171171,  -1.69169169,\n",
       "        -1.67167167,  -1.65165165,  -1.63163163,  -1.61161161,\n",
       "        -1.59159159,  -1.57157157,  -1.55155155,  -1.53153153,\n",
       "        -1.51151151,  -1.49149149,  -1.47147147,  -1.45145145,\n",
       "        -1.43143143,  -1.41141141,  -1.39139139,  -1.37137137,\n",
       "        -1.35135135,  -1.33133133,  -1.31131131,  -1.29129129,\n",
       "        -1.27127127,  -1.25125125,  -1.23123123,  -1.21121121,\n",
       "        -1.19119119,  -1.17117117,  -1.15115115,  -1.13113113,\n",
       "        -1.11111111,  -1.09109109,  -1.07107107,  -1.05105105,\n",
       "        -1.03103103,  -1.01101101,  -0.99099099,  -0.97097097,\n",
       "        -0.95095095,  -0.93093093,  -0.91091091,  -0.89089089,\n",
       "        -0.87087087,  -0.85085085,  -0.83083083,  -0.81081081,\n",
       "        -0.79079079,  -0.77077077,  -0.75075075,  -0.73073073,\n",
       "        -0.71071071,  -0.69069069,  -0.67067067,  -0.65065065,\n",
       "        -0.63063063,  -0.61061061,  -0.59059059,  -0.57057057,\n",
       "        -0.55055055,  -0.53053053,  -0.51051051,  -0.49049049,\n",
       "        -0.47047047,  -0.45045045,  -0.43043043,  -0.41041041,\n",
       "        -0.39039039,  -0.37037037,  -0.35035035,  -0.33033033,\n",
       "        -0.31031031,  -0.29029029,  -0.27027027,  -0.25025025,\n",
       "        -0.23023023,  -0.21021021,  -0.19019019,  -0.17017017,\n",
       "        -0.15015015,  -0.13013013,  -0.11011011,  -0.09009009,\n",
       "        -0.07007007,  -0.05005005,  -0.03003003,  -0.01001001,\n",
       "         0.01001001,   0.03003003,   0.05005005,   0.07007007,\n",
       "         0.09009009,   0.11011011,   0.13013013,   0.15015015,\n",
       "         0.17017017,   0.19019019,   0.21021021,   0.23023023,\n",
       "         0.25025025,   0.27027027,   0.29029029,   0.31031031,\n",
       "         0.33033033,   0.35035035,   0.37037037,   0.39039039,\n",
       "         0.41041041,   0.43043043,   0.45045045,   0.47047047,\n",
       "         0.49049049,   0.51051051,   0.53053053,   0.55055055,\n",
       "         0.57057057,   0.59059059,   0.61061061,   0.63063063,\n",
       "         0.65065065,   0.67067067,   0.69069069,   0.71071071,\n",
       "         0.73073073,   0.75075075,   0.77077077,   0.79079079,\n",
       "         0.81081081,   0.83083083,   0.85085085,   0.87087087,\n",
       "         0.89089089,   0.91091091,   0.93093093,   0.95095095,\n",
       "         0.97097097,   0.99099099,   1.01101101,   1.03103103,\n",
       "         1.05105105,   1.07107107,   1.09109109,   1.11111111,\n",
       "         1.13113113,   1.15115115,   1.17117117,   1.19119119,\n",
       "         1.21121121,   1.23123123,   1.25125125,   1.27127127,\n",
       "         1.29129129,   1.31131131,   1.33133133,   1.35135135,\n",
       "         1.37137137,   1.39139139,   1.41141141,   1.43143143,\n",
       "         1.45145145,   1.47147147,   1.49149149,   1.51151151,\n",
       "         1.53153153,   1.55155155,   1.57157157,   1.59159159,\n",
       "         1.61161161,   1.63163163,   1.65165165,   1.67167167,\n",
       "         1.69169169,   1.71171171,   1.73173173,   1.75175175,\n",
       "         1.77177177,   1.79179179,   1.81181181,   1.83183183,\n",
       "         1.85185185,   1.87187187,   1.89189189,   1.91191191,\n",
       "         1.93193193,   1.95195195,   1.97197197,   1.99199199,\n",
       "         2.01201201,   2.03203203,   2.05205205,   2.07207207,\n",
       "         2.09209209,   2.11211211,   2.13213213,   2.15215215,\n",
       "         2.17217217,   2.19219219,   2.21221221,   2.23223223,\n",
       "         2.25225225,   2.27227227,   2.29229229,   2.31231231,\n",
       "         2.33233233,   2.35235235,   2.37237237,   2.39239239,\n",
       "         2.41241241,   2.43243243,   2.45245245,   2.47247247,\n",
       "         2.49249249,   2.51251251,   2.53253253,   2.55255255,\n",
       "         2.57257257,   2.59259259,   2.61261261,   2.63263263,\n",
       "         2.65265265,   2.67267267,   2.69269269,   2.71271271,\n",
       "         2.73273273,   2.75275275,   2.77277277,   2.79279279,\n",
       "         2.81281281,   2.83283283,   2.85285285,   2.87287287,\n",
       "         2.89289289,   2.91291291,   2.93293293,   2.95295295,\n",
       "         2.97297297,   2.99299299,   3.01301301,   3.03303303,\n",
       "         3.05305305,   3.07307307,   3.09309309,   3.11311311,\n",
       "         3.13313313,   3.15315315,   3.17317317,   3.19319319,\n",
       "         3.21321321,   3.23323323,   3.25325325,   3.27327327,\n",
       "         3.29329329,   3.31331331,   3.33333333,   3.35335335,\n",
       "         3.37337337,   3.39339339,   3.41341341,   3.43343343,\n",
       "         3.45345345,   3.47347347,   3.49349349,   3.51351351,\n",
       "         3.53353353,   3.55355355,   3.57357357,   3.59359359,\n",
       "         3.61361361,   3.63363363,   3.65365365,   3.67367367,\n",
       "         3.69369369,   3.71371371,   3.73373373,   3.75375375,\n",
       "         3.77377377,   3.79379379,   3.81381381,   3.83383383,\n",
       "         3.85385385,   3.87387387,   3.89389389,   3.91391391,\n",
       "         3.93393393,   3.95395395,   3.97397397,   3.99399399,\n",
       "         4.01401401,   4.03403403,   4.05405405,   4.07407407,\n",
       "         4.09409409,   4.11411411,   4.13413413,   4.15415415,\n",
       "         4.17417417,   4.19419419,   4.21421421,   4.23423423,\n",
       "         4.25425425,   4.27427427,   4.29429429,   4.31431431,\n",
       "         4.33433433,   4.35435435,   4.37437437,   4.39439439,\n",
       "         4.41441441,   4.43443443,   4.45445445,   4.47447447,\n",
       "         4.49449449,   4.51451451,   4.53453453,   4.55455455,\n",
       "         4.57457457,   4.59459459,   4.61461461,   4.63463463,\n",
       "         4.65465465,   4.67467467,   4.69469469,   4.71471471,\n",
       "         4.73473473,   4.75475475,   4.77477477,   4.79479479,\n",
       "         4.81481481,   4.83483483,   4.85485485,   4.87487487,\n",
       "         4.89489489,   4.91491491,   4.93493493,   4.95495495,\n",
       "         4.97497497,   4.99499499,   5.01501502,   5.03503504,\n",
       "         5.05505506,   5.07507508,   5.0950951 ,   5.11511512,\n",
       "         5.13513514,   5.15515516,   5.17517518,   5.1951952 ,\n",
       "         5.21521522,   5.23523524,   5.25525526,   5.27527528,\n",
       "         5.2952953 ,   5.31531532,   5.33533534,   5.35535536,\n",
       "         5.37537538,   5.3953954 ,   5.41541542,   5.43543544,\n",
       "         5.45545546,   5.47547548,   5.4954955 ,   5.51551552,\n",
       "         5.53553554,   5.55555556,   5.57557558,   5.5955956 ,\n",
       "         5.61561562,   5.63563564,   5.65565566,   5.67567568,\n",
       "         5.6956957 ,   5.71571572,   5.73573574,   5.75575576,\n",
       "         5.77577578,   5.7957958 ,   5.81581582,   5.83583584,\n",
       "         5.85585586,   5.87587588,   5.8958959 ,   5.91591592,\n",
       "         5.93593594,   5.95595596,   5.97597598,   5.995996  ,\n",
       "         6.01601602,   6.03603604,   6.05605606,   6.07607608,\n",
       "         6.0960961 ,   6.11611612,   6.13613614,   6.15615616,\n",
       "         6.17617618,   6.1961962 ,   6.21621622,   6.23623624,\n",
       "         6.25625626,   6.27627628,   6.2962963 ,   6.31631632,\n",
       "         6.33633634,   6.35635636,   6.37637638,   6.3963964 ,\n",
       "         6.41641642,   6.43643644,   6.45645646,   6.47647648,\n",
       "         6.4964965 ,   6.51651652,   6.53653654,   6.55655656,\n",
       "         6.57657658,   6.5965966 ,   6.61661662,   6.63663664,\n",
       "         6.65665666,   6.67667668,   6.6966967 ,   6.71671672,\n",
       "         6.73673674,   6.75675676,   6.77677678,   6.7967968 ,\n",
       "         6.81681682,   6.83683684,   6.85685686,   6.87687688,\n",
       "         6.8968969 ,   6.91691692,   6.93693694,   6.95695696,\n",
       "         6.97697698,   6.996997  ,   7.01701702,   7.03703704,\n",
       "         7.05705706,   7.07707708,   7.0970971 ,   7.11711712,\n",
       "         7.13713714,   7.15715716,   7.17717718,   7.1971972 ,\n",
       "         7.21721722,   7.23723724,   7.25725726,   7.27727728,\n",
       "         7.2972973 ,   7.31731732,   7.33733734,   7.35735736,\n",
       "         7.37737738,   7.3973974 ,   7.41741742,   7.43743744,\n",
       "         7.45745746,   7.47747748,   7.4974975 ,   7.51751752,\n",
       "         7.53753754,   7.55755756,   7.57757758,   7.5975976 ,\n",
       "         7.61761762,   7.63763764,   7.65765766,   7.67767768,\n",
       "         7.6976977 ,   7.71771772,   7.73773774,   7.75775776,\n",
       "         7.77777778,   7.7977978 ,   7.81781782,   7.83783784,\n",
       "         7.85785786,   7.87787788,   7.8978979 ,   7.91791792,\n",
       "         7.93793794,   7.95795796,   7.97797798,   7.997998  ,\n",
       "         8.01801802,   8.03803804,   8.05805806,   8.07807808,\n",
       "         8.0980981 ,   8.11811812,   8.13813814,   8.15815816,\n",
       "         8.17817818,   8.1981982 ,   8.21821822,   8.23823824,\n",
       "         8.25825826,   8.27827828,   8.2982983 ,   8.31831832,\n",
       "         8.33833834,   8.35835836,   8.37837838,   8.3983984 ,\n",
       "         8.41841842,   8.43843844,   8.45845846,   8.47847848,\n",
       "         8.4984985 ,   8.51851852,   8.53853854,   8.55855856,\n",
       "         8.57857858,   8.5985986 ,   8.61861862,   8.63863864,\n",
       "         8.65865866,   8.67867868,   8.6986987 ,   8.71871872,\n",
       "         8.73873874,   8.75875876,   8.77877878,   8.7987988 ,\n",
       "         8.81881882,   8.83883884,   8.85885886,   8.87887888,\n",
       "         8.8988989 ,   8.91891892,   8.93893894,   8.95895896,\n",
       "         8.97897898,   8.998999  ,   9.01901902,   9.03903904,\n",
       "         9.05905906,   9.07907908,   9.0990991 ,   9.11911912,\n",
       "         9.13913914,   9.15915916,   9.17917918,   9.1991992 ,\n",
       "         9.21921922,   9.23923924,   9.25925926,   9.27927928,\n",
       "         9.2992993 ,   9.31931932,   9.33933934,   9.35935936,\n",
       "         9.37937938,   9.3993994 ,   9.41941942,   9.43943944,\n",
       "         9.45945946,   9.47947948,   9.4994995 ,   9.51951952,\n",
       "         9.53953954,   9.55955956,   9.57957958,   9.5995996 ,\n",
       "         9.61961962,   9.63963964,   9.65965966,   9.67967968,\n",
       "         9.6996997 ,   9.71971972,   9.73973974,   9.75975976,\n",
       "         9.77977978,   9.7997998 ,   9.81981982,   9.83983984,\n",
       "         9.85985986,   9.87987988,   9.8998999 ,   9.91991992,\n",
       "         9.93993994,   9.95995996,   9.97997998,  10.        ])"
      ]
     },
     "execution_count": 9,
     "metadata": {},
     "output_type": "execute_result"
    }
   ],
   "source": [
    "new_x"
   ]
  },
  {
   "cell_type": "code",
   "execution_count": 10,
   "metadata": {},
   "outputs": [
    {
     "data": {
      "text/plain": [
       "[0,\n",
       " 0,\n",
       " 0,\n",
       " 0,\n",
       " 0,\n",
       " 0,\n",
       " 0,\n",
       " 0,\n",
       " 0,\n",
       " 0,\n",
       " 0,\n",
       " 0,\n",
       " 0,\n",
       " 0,\n",
       " 0,\n",
       " 0,\n",
       " 0,\n",
       " 0,\n",
       " 0,\n",
       " 0,\n",
       " 0,\n",
       " 0,\n",
       " 0,\n",
       " 0,\n",
       " 0,\n",
       " 0,\n",
       " 0,\n",
       " 0,\n",
       " 0,\n",
       " 0,\n",
       " 0,\n",
       " 0,\n",
       " 0,\n",
       " 0,\n",
       " 0,\n",
       " 0,\n",
       " 0,\n",
       " 0,\n",
       " 0,\n",
       " 0,\n",
       " 0,\n",
       " 0,\n",
       " 0,\n",
       " 0,\n",
       " 0,\n",
       " 0,\n",
       " 0,\n",
       " 0,\n",
       " 0,\n",
       " 0,\n",
       " 0,\n",
       " 0,\n",
       " 0,\n",
       " 0,\n",
       " 0,\n",
       " 0,\n",
       " 0,\n",
       " 0,\n",
       " 0,\n",
       " 0,\n",
       " 0,\n",
       " 0,\n",
       " 0,\n",
       " 0,\n",
       " 0,\n",
       " 0,\n",
       " 0,\n",
       " 0,\n",
       " 0,\n",
       " 0,\n",
       " 0,\n",
       " 0,\n",
       " 0,\n",
       " 0,\n",
       " 0,\n",
       " 0,\n",
       " 0,\n",
       " 0,\n",
       " 0,\n",
       " 0,\n",
       " 0,\n",
       " 0,\n",
       " 0,\n",
       " 0,\n",
       " 0,\n",
       " 0,\n",
       " 0,\n",
       " 0,\n",
       " 0,\n",
       " 0,\n",
       " 0,\n",
       " 0,\n",
       " 0,\n",
       " 0,\n",
       " 0,\n",
       " 0,\n",
       " 0,\n",
       " 0,\n",
       " 0,\n",
       " 0,\n",
       " 0,\n",
       " 0,\n",
       " 0,\n",
       " 0,\n",
       " 0,\n",
       " 0,\n",
       " 0,\n",
       " 0,\n",
       " 0,\n",
       " 0,\n",
       " 0,\n",
       " 0,\n",
       " 0,\n",
       " 0,\n",
       " 0,\n",
       " 0,\n",
       " 0,\n",
       " 0,\n",
       " 0,\n",
       " 0,\n",
       " 0,\n",
       " 0,\n",
       " 0,\n",
       " 0,\n",
       " 0,\n",
       " 0,\n",
       " 0,\n",
       " 0,\n",
       " 0,\n",
       " 0,\n",
       " 0,\n",
       " 0,\n",
       " 0,\n",
       " 0,\n",
       " 0,\n",
       " 0,\n",
       " 0,\n",
       " 0,\n",
       " 0,\n",
       " 0,\n",
       " 0,\n",
       " 0,\n",
       " 0,\n",
       " 0,\n",
       " 0,\n",
       " 0,\n",
       " 0,\n",
       " 0,\n",
       " 0,\n",
       " 0,\n",
       " 0,\n",
       " 0,\n",
       " 0,\n",
       " 0,\n",
       " 0,\n",
       " 0,\n",
       " 0,\n",
       " 0,\n",
       " 0,\n",
       " 0,\n",
       " 0,\n",
       " 0,\n",
       " 0,\n",
       " 0,\n",
       " 0,\n",
       " 0,\n",
       " 0,\n",
       " 0,\n",
       " 0,\n",
       " 0,\n",
       " 0,\n",
       " 0,\n",
       " 0,\n",
       " 0,\n",
       " 0,\n",
       " 0,\n",
       " 0,\n",
       " 0,\n",
       " 0,\n",
       " 0,\n",
       " 0,\n",
       " 0,\n",
       " 0,\n",
       " 0,\n",
       " 0,\n",
       " 0,\n",
       " 0,\n",
       " 0,\n",
       " 0,\n",
       " 0,\n",
       " 0,\n",
       " 0,\n",
       " 0,\n",
       " 0,\n",
       " 0,\n",
       " 0,\n",
       " 0,\n",
       " 0,\n",
       " 0,\n",
       " 0,\n",
       " 0,\n",
       " 0,\n",
       " 0,\n",
       " 0,\n",
       " 0,\n",
       " 0,\n",
       " 0,\n",
       " 0,\n",
       " 0,\n",
       " 0,\n",
       " 0,\n",
       " 0,\n",
       " 0,\n",
       " 0,\n",
       " 0,\n",
       " 0,\n",
       " 0,\n",
       " 0,\n",
       " 0,\n",
       " 0,\n",
       " 0,\n",
       " 0,\n",
       " 0,\n",
       " 0,\n",
       " 0,\n",
       " 0,\n",
       " 0,\n",
       " 0,\n",
       " 0,\n",
       " 0,\n",
       " 0,\n",
       " 0,\n",
       " 0,\n",
       " 0,\n",
       " 0,\n",
       " 0,\n",
       " 0,\n",
       " 0,\n",
       " 0,\n",
       " 0,\n",
       " 0,\n",
       " 0,\n",
       " 0,\n",
       " 0,\n",
       " 0,\n",
       " 0,\n",
       " 0,\n",
       " 0,\n",
       " 0,\n",
       " 0,\n",
       " 0,\n",
       " 0,\n",
       " 0,\n",
       " 0,\n",
       " 0,\n",
       " 0,\n",
       " 0,\n",
       " 0,\n",
       " 0,\n",
       " 0,\n",
       " 0,\n",
       " 0,\n",
       " 0,\n",
       " 0,\n",
       " 0,\n",
       " 0,\n",
       " 0,\n",
       " 0,\n",
       " 0,\n",
       " 0,\n",
       " 0,\n",
       " 0,\n",
       " 0,\n",
       " 0,\n",
       " 0,\n",
       " 0,\n",
       " 0,\n",
       " 0,\n",
       " 0,\n",
       " 0,\n",
       " 0,\n",
       " 0,\n",
       " 0,\n",
       " 0,\n",
       " 0,\n",
       " 0,\n",
       " 0,\n",
       " 0,\n",
       " 0,\n",
       " 0,\n",
       " 0,\n",
       " 0,\n",
       " 0,\n",
       " 0,\n",
       " 0,\n",
       " 0,\n",
       " 0,\n",
       " 0,\n",
       " 0,\n",
       " 0,\n",
       " 0,\n",
       " 0,\n",
       " 0,\n",
       " 0,\n",
       " 0,\n",
       " 0,\n",
       " 0,\n",
       " 0,\n",
       " 0,\n",
       " 0,\n",
       " 0,\n",
       " 0,\n",
       " 0,\n",
       " 0,\n",
       " 0,\n",
       " 0,\n",
       " 0,\n",
       " 0,\n",
       " 0,\n",
       " 0,\n",
       " 0,\n",
       " 0,\n",
       " 0,\n",
       " 0,\n",
       " 0,\n",
       " 0,\n",
       " 0,\n",
       " 0,\n",
       " 0,\n",
       " 0,\n",
       " 0,\n",
       " 0,\n",
       " 0,\n",
       " 0,\n",
       " 0,\n",
       " 0,\n",
       " 0,\n",
       " 0,\n",
       " 0,\n",
       " 0,\n",
       " 0,\n",
       " 0,\n",
       " 0,\n",
       " 0,\n",
       " 0,\n",
       " 0,\n",
       " 0,\n",
       " 0,\n",
       " 0,\n",
       " 0,\n",
       " 0,\n",
       " 0,\n",
       " 0,\n",
       " 0,\n",
       " 0,\n",
       " 0,\n",
       " 0,\n",
       " 0,\n",
       " 0,\n",
       " 0,\n",
       " 0,\n",
       " 0,\n",
       " 0,\n",
       " 0,\n",
       " 0,\n",
       " 0,\n",
       " 0,\n",
       " 0,\n",
       " 0,\n",
       " 0,\n",
       " 0,\n",
       " 0,\n",
       " 0,\n",
       " 0,\n",
       " 0,\n",
       " 0,\n",
       " 0,\n",
       " 0,\n",
       " 0,\n",
       " 0,\n",
       " 0,\n",
       " 0,\n",
       " 0,\n",
       " 0,\n",
       " 0,\n",
       " 0,\n",
       " 0,\n",
       " 0,\n",
       " 0,\n",
       " 0,\n",
       " 0,\n",
       " 0,\n",
       " 0,\n",
       " 0,\n",
       " 0,\n",
       " 0,\n",
       " 0,\n",
       " 0,\n",
       " 0,\n",
       " 0,\n",
       " 0,\n",
       " 0,\n",
       " 0,\n",
       " 0,\n",
       " 0,\n",
       " 0,\n",
       " 0,\n",
       " 0,\n",
       " 0,\n",
       " 0,\n",
       " 0,\n",
       " 0,\n",
       " 0,\n",
       " 0,\n",
       " 0,\n",
       " 0,\n",
       " 0,\n",
       " 0,\n",
       " 0,\n",
       " 0,\n",
       " 0,\n",
       " 0,\n",
       " 0,\n",
       " 0,\n",
       " 0,\n",
       " 0,\n",
       " 0,\n",
       " 0,\n",
       " 0,\n",
       " 0,\n",
       " 0,\n",
       " 0,\n",
       " 0,\n",
       " 0,\n",
       " 0,\n",
       " 0,\n",
       " 0,\n",
       " 0,\n",
       " 0,\n",
       " 0,\n",
       " 0,\n",
       " 0,\n",
       " 0,\n",
       " 0,\n",
       " 0,\n",
       " 0,\n",
       " 0,\n",
       " 0,\n",
       " 0,\n",
       " 0,\n",
       " 0,\n",
       " 0,\n",
       " 0,\n",
       " 0,\n",
       " 0,\n",
       " 0,\n",
       " 0,\n",
       " 0,\n",
       " 0,\n",
       " 0,\n",
       " 0,\n",
       " 0,\n",
       " 0,\n",
       " 0,\n",
       " 0,\n",
       " 0,\n",
       " 0,\n",
       " 0,\n",
       " 0,\n",
       " 0,\n",
       " 0,\n",
       " 0,\n",
       " 0,\n",
       " 0,\n",
       " 0,\n",
       " 0,\n",
       " 0,\n",
       " 0,\n",
       " 0,\n",
       " 0,\n",
       " 0,\n",
       " 0,\n",
       " 0,\n",
       " 0,\n",
       " 0,\n",
       " 0,\n",
       " 0,\n",
       " 0,\n",
       " 0,\n",
       " 0,\n",
       " 0,\n",
       " 0,\n",
       " 0,\n",
       " 0,\n",
       " 0,\n",
       " 0,\n",
       " 0,\n",
       " 0,\n",
       " 0,\n",
       " 0,\n",
       " 0,\n",
       " 0,\n",
       " 0,\n",
       " 0,\n",
       " 0,\n",
       " 0,\n",
       " 0,\n",
       " 0,\n",
       " 0,\n",
       " 0,\n",
       " 0,\n",
       " 0,\n",
       " 0,\n",
       " 0,\n",
       " 0,\n",
       " 0,\n",
       " 0,\n",
       " 0,\n",
       " 0,\n",
       " 0,\n",
       " 0,\n",
       " 0,\n",
       " 0,\n",
       " 0,\n",
       " 0,\n",
       " 0,\n",
       " 0,\n",
       " 0,\n",
       " 0,\n",
       " 0,\n",
       " 0,\n",
       " 0,\n",
       " 0,\n",
       " 0,\n",
       " 0,\n",
       " 0,\n",
       " 0,\n",
       " 0,\n",
       " 0,\n",
       " 0,\n",
       " 0,\n",
       " 0,\n",
       " 0,\n",
       " 0,\n",
       " 0,\n",
       " 0,\n",
       " 0,\n",
       " 0,\n",
       " 0,\n",
       " 0,\n",
       " 0,\n",
       " 0,\n",
       " 0,\n",
       " 0,\n",
       " 0,\n",
       " 0,\n",
       " 0,\n",
       " 0,\n",
       " 0,\n",
       " 0,\n",
       " 0,\n",
       " 0,\n",
       " 0,\n",
       " 0,\n",
       " 0,\n",
       " 0,\n",
       " 0,\n",
       " 0,\n",
       " 0,\n",
       " 0,\n",
       " 0,\n",
       " 0,\n",
       " 0,\n",
       " 0,\n",
       " 0,\n",
       " 0,\n",
       " 0,\n",
       " 0,\n",
       " 0,\n",
       " 0,\n",
       " 0,\n",
       " 0,\n",
       " 0,\n",
       " 0,\n",
       " 0,\n",
       " 0,\n",
       " 0,\n",
       " 0,\n",
       " 0,\n",
       " 0,\n",
       " 0,\n",
       " 0,\n",
       " 0,\n",
       " 0,\n",
       " 0,\n",
       " 0,\n",
       " 0,\n",
       " 0,\n",
       " 0,\n",
       " 0,\n",
       " 0,\n",
       " 0,\n",
       " 0,\n",
       " 0,\n",
       " 0,\n",
       " 0,\n",
       " 0,\n",
       " 0,\n",
       " 0,\n",
       " 0,\n",
       " 0,\n",
       " 0,\n",
       " 0,\n",
       " 0,\n",
       " 0,\n",
       " 0,\n",
       " 0,\n",
       " 0,\n",
       " 0,\n",
       " 0,\n",
       " 0,\n",
       " 0,\n",
       " 0,\n",
       " 0,\n",
       " 0,\n",
       " 0,\n",
       " 0,\n",
       " 0,\n",
       " 0,\n",
       " 0,\n",
       " 0,\n",
       " 0,\n",
       " 0,\n",
       " 0,\n",
       " 0,\n",
       " 0,\n",
       " 0,\n",
       " 0,\n",
       " 0,\n",
       " 0,\n",
       " 0,\n",
       " 0,\n",
       " 0,\n",
       " 0,\n",
       " 0,\n",
       " 0,\n",
       " 0,\n",
       " 0,\n",
       " 0,\n",
       " 0,\n",
       " 0,\n",
       " 0,\n",
       " 0,\n",
       " 0,\n",
       " 0,\n",
       " 0,\n",
       " 0,\n",
       " 0,\n",
       " 0,\n",
       " 0,\n",
       " 0,\n",
       " 0,\n",
       " 0,\n",
       " 0,\n",
       " 0,\n",
       " 0,\n",
       " 0,\n",
       " 0,\n",
       " 0,\n",
       " 0,\n",
       " 0,\n",
       " 0,\n",
       " 0,\n",
       " 0,\n",
       " 0,\n",
       " 0,\n",
       " 0,\n",
       " 0,\n",
       " 0,\n",
       " 0,\n",
       " 0,\n",
       " 0,\n",
       " 0,\n",
       " 0,\n",
       " 0,\n",
       " 0,\n",
       " 0,\n",
       " 0,\n",
       " 0,\n",
       " 0,\n",
       " 0,\n",
       " 0,\n",
       " 0,\n",
       " 0,\n",
       " 0,\n",
       " 0,\n",
       " 0,\n",
       " 0,\n",
       " 0,\n",
       " 0,\n",
       " 0,\n",
       " 0,\n",
       " 0,\n",
       " 0,\n",
       " 0,\n",
       " 0,\n",
       " 0,\n",
       " 0,\n",
       " 0,\n",
       " 0,\n",
       " 0,\n",
       " 0,\n",
       " 0,\n",
       " 0,\n",
       " 0,\n",
       " 0,\n",
       " 0,\n",
       " 0,\n",
       " 0,\n",
       " 0,\n",
       " 0,\n",
       " 0,\n",
       " 0,\n",
       " 0,\n",
       " 0,\n",
       " 0,\n",
       " 0,\n",
       " 0,\n",
       " 0,\n",
       " 0,\n",
       " 0,\n",
       " 0,\n",
       " 0,\n",
       " 0,\n",
       " 0,\n",
       " 0,\n",
       " 0,\n",
       " 0,\n",
       " 0,\n",
       " 0,\n",
       " 0,\n",
       " 0,\n",
       " 0,\n",
       " 0,\n",
       " 0,\n",
       " 0,\n",
       " 0,\n",
       " 0,\n",
       " 0,\n",
       " 0,\n",
       " 0,\n",
       " 0,\n",
       " 0,\n",
       " 0,\n",
       " 0,\n",
       " 0,\n",
       " 0,\n",
       " 0,\n",
       " 0,\n",
       " 0,\n",
       " 0,\n",
       " 0,\n",
       " 0,\n",
       " 0,\n",
       " 0,\n",
       " 0,\n",
       " 0,\n",
       " 0,\n",
       " 0,\n",
       " 0,\n",
       " 0,\n",
       " 0,\n",
       " 0,\n",
       " 0,\n",
       " 0,\n",
       " 0,\n",
       " 0,\n",
       " 0,\n",
       " 0,\n",
       " 0,\n",
       " 0,\n",
       " 0,\n",
       " 0,\n",
       " 0,\n",
       " 0,\n",
       " 0,\n",
       " 0,\n",
       " 0,\n",
       " 0,\n",
       " 0,\n",
       " 0,\n",
       " 0,\n",
       " 0,\n",
       " 0,\n",
       " 0,\n",
       " 0,\n",
       " 0,\n",
       " 0,\n",
       " 0,\n",
       " 0,\n",
       " 0,\n",
       " 0,\n",
       " 0,\n",
       " 0,\n",
       " 0,\n",
       " 0,\n",
       " 0,\n",
       " 0,\n",
       " 0,\n",
       " 0,\n",
       " 0,\n",
       " 0,\n",
       " 0,\n",
       " 0,\n",
       " 0,\n",
       " 0,\n",
       " 0,\n",
       " 0,\n",
       " 0,\n",
       " 0,\n",
       " 0,\n",
       " 0,\n",
       " 0,\n",
       " 0,\n",
       " 0,\n",
       " 0,\n",
       " 0,\n",
       " 0,\n",
       " 0,\n",
       " 0,\n",
       " 0,\n",
       " 0,\n",
       " 0,\n",
       " 0,\n",
       " 0,\n",
       " 0,\n",
       " 0,\n",
       " 0,\n",
       " 0,\n",
       " 0,\n",
       " 0,\n",
       " 0,\n",
       " 0,\n",
       " 0,\n",
       " 0,\n",
       " 0,\n",
       " 0,\n",
       " 0,\n",
       " 0,\n",
       " 0,\n",
       " 0,\n",
       " 0,\n",
       " 0,\n",
       " 0,\n",
       " 0,\n",
       " 0,\n",
       " 0,\n",
       " 0,\n",
       " 0,\n",
       " 0,\n",
       " 0,\n",
       " 0,\n",
       " 0,\n",
       " 0,\n",
       " 0,\n",
       " 0,\n",
       " 0,\n",
       " 0,\n",
       " 0,\n",
       " 0,\n",
       " 0,\n",
       " 0,\n",
       " 0,\n",
       " 0,\n",
       " 0,\n",
       " 0,\n",
       " 0,\n",
       " 0,\n",
       " 0,\n",
       " 0,\n",
       " 0,\n",
       " 0,\n",
       " 0,\n",
       " 0,\n",
       " 0,\n",
       " 0,\n",
       " 0,\n",
       " 0,\n",
       " 0,\n",
       " 0,\n",
       " 0,\n",
       " 0,\n",
       " 0,\n",
       " 0,\n",
       " 0,\n",
       " 0,\n",
       " 0,\n",
       " 0,\n",
       " 0,\n",
       " 0,\n",
       " 0,\n",
       " 0,\n",
       " 0,\n",
       " 0,\n",
       " 0,\n",
       " 0,\n",
       " 0,\n",
       " 0,\n",
       " 0,\n",
       " 0,\n",
       " 0,\n",
       " 0,\n",
       " 0,\n",
       " 0,\n",
       " 0,\n",
       " 0,\n",
       " 0,\n",
       " 0,\n",
       " 0,\n",
       " 0,\n",
       " 0,\n",
       " 0,\n",
       " 0,\n",
       " 0,\n",
       " 0,\n",
       " 0,\n",
       " 0,\n",
       " 0,\n",
       " 0,\n",
       " 0,\n",
       " 0,\n",
       " 0,\n",
       " 0,\n",
       " 0,\n",
       " 0,\n",
       " 0,\n",
       " 0,\n",
       " 0,\n",
       " 0,\n",
       " 0,\n",
       " 0,\n",
       " 0,\n",
       " 0,\n",
       " 0,\n",
       " 0,\n",
       " 0,\n",
       " 0,\n",
       " 0,\n",
       " 0,\n",
       " 0,\n",
       " 0,\n",
       " 0,\n",
       " 0,\n",
       " 0,\n",
       " 0,\n",
       " 0,\n",
       " 0,\n",
       " 0,\n",
       " 0,\n",
       " 0,\n",
       " 0,\n",
       " 0,\n",
       " 0,\n",
       " 0,\n",
       " 0,\n",
       " 0,\n",
       " 0,\n",
       " 0,\n",
       " 0,\n",
       " 0,\n",
       " 0,\n",
       " 0,\n",
       " 0,\n",
       " 0,\n",
       " 0,\n",
       " 0,\n",
       " 0,\n",
       " 0,\n",
       " 0,\n",
       " 0,\n",
       " 0,\n",
       " 0,\n",
       " 0,\n",
       " 0,\n",
       " 0,\n",
       " 0,\n",
       " 0,\n",
       " 0,\n",
       " 0,\n",
       " 0,\n",
       " 0,\n",
       " 0,\n",
       " 0,\n",
       " 0,\n",
       " 0,\n",
       " 0,\n",
       " 0,\n",
       " 0,\n",
       " 0,\n",
       " 0]"
      ]
     },
     "execution_count": 10,
     "metadata": {},
     "output_type": "execute_result"
    }
   ],
   "source": [
    "model.predict(np.array(new_x))\n",
    "# model.plot_2d()"
   ]
  },
  {
   "cell_type": "markdown",
   "metadata": {
    "id": "LIpr1HKIVbze"
   },
   "source": [
    "# Problem 03: 2D kNN Classification and Regression\n",
    "\n",
    " We are given the following Dataset of 8 Observations, with 2 Features and 2 Labels:\n",
    "\n",
    " | $X_1$ | $X_2$| $Y_1$ | $Y_2$|\n",
    " | --| --| -- | -- |\n",
    " | 1 | 1 | -1 | 0.5|\n",
    " | 0 | 2 | -1 | 0.6|\n",
    " | 2 | 1 | 1 | 2.1|\n",
    " | 2 | 2 | -1 | 1.3 |\n",
    " | 0 | 1 | 1 | 2|\n",
    " | -1 | 1 | 1 | -0.5|\n",
    " | -2 | 2 | -1| 2.4|\n",
    " | 0 | 0 | 1| 0|\n",
    "\n",
    "Here the Label $Y_1$ is Discrete, and the Label $Y_2$ is continuous.\n",
    "\n",
    "  * Using $kNN$ with $k = 3$ and Euclidean Distance, predict the Label $Y_1$ of the observation with the Feature vector $x = (1,0)$;\n",
    "  * Using $kNN$ with $k = 3$ and Euclidean Distance, predict the Label $Y_2$ for the same observation with the Feature vector $x = (1,0)$."
   ]
  },
  {
   "cell_type": "code",
   "execution_count": 11,
   "metadata": {},
   "outputs": [],
   "source": [
    "x1 = [1, 0, 2, 2, 0, -1, -2, 0]\n",
    "x2 = [1, 2, 1, 2, 1, 1, 2, 0]\n",
    "y1 = [-1, -1, 1, -1, 1, 1, -1, 1]\n",
    "y2 = [0.5, 0.6, 2.1, 1.3, 2, -0.5, 2.4, 0]"
   ]
  },
  {
   "cell_type": "code",
   "execution_count": 12,
   "metadata": {},
   "outputs": [],
   "source": [
    "k = 3\n",
    "x_vec = [1, 0]\n",
    "dists = {ind: np.sqrt((x_vec[0]-i)**2 + (x_vec[1]-j)**2) for ind, (i, j) in enumerate(zip(x1, x2))}\n",
    "\n",
    "indexes = sorted(dists, key=dists.get)[0:k]"
   ]
  },
  {
   "cell_type": "code",
   "execution_count": 13,
   "metadata": {},
   "outputs": [
    {
     "name": "stdout",
     "output_type": "stream",
     "text": [
      "Classification: Predicted label: 1\n"
     ]
    }
   ],
   "source": [
    "labels = [y1[i] for i in indexes]\n",
    "unique_labels, counts = np.unique(labels, return_counts=True)\n",
    "print('Classification: Predicted label:', unique_labels[counts.argmax()])"
   ]
  },
  {
   "cell_type": "code",
   "execution_count": 14,
   "metadata": {},
   "outputs": [
    {
     "name": "stdout",
     "output_type": "stream",
     "text": [
      "Regression: Prediction: 0.8666666666666667\n"
     ]
    }
   ],
   "source": [
    "labels = [y2[i] for i in indexes]\n",
    "print('Regression: Prediction:', np.mean(labels))"
   ]
  },
  {
   "cell_type": "markdown",
   "metadata": {
    "id": "tLfg8vX_QTae"
   },
   "source": [
    "# (Python) Problem 04: $k$NN\n",
    "\n",
    "  * Generate a 2D Feature, 1D Target (Label) Binary Classification Dataset with a Size 550 using the `make_classification` function, by fixing the random state to 1.\n",
    "  * Divide the Dataset into 75/25 Train/Test Datasets\n",
    "  * Do 10-fold Cross-Validation over the Train Dataset for the kNN Models with $k$ ranging from 1 to 20 and the Euclidean Distance, and choose the best one. Plot the graph of the CV Scores.\n",
    "  * Report the Accuracy of the Best Model chosen above over the Test Dataset\n",
    "  * Train the $kNN$ with $k$ selected above in CV over the whole Dataset, and plot the Decision Regions and Decision Boundary\n",
    "  * Predict, using the model obtained in the last step, the Label of some custom (you give it!) observation\n",
    "  * Change the metric to Manhattan (TaxiCab) Distance, and do the above training/CV/Accuracy calculation steps\n",
    "\n"
   ]
  },
  {
   "cell_type": "code",
   "execution_count": 15,
   "metadata": {},
   "outputs": [],
   "source": [
    "X, y = make_classification(550, n_features=2, n_informative=2, n_redundant=0, n_classes=2, random_state=1)"
   ]
  },
  {
   "cell_type": "code",
   "execution_count": 16,
   "metadata": {},
   "outputs": [],
   "source": [
    "X_train, X_test, y_train, y_test = train_test_split(X, y, test_size=0.25, random_state=42)"
   ]
  },
  {
   "cell_type": "code",
   "execution_count": 17,
   "metadata": {},
   "outputs": [],
   "source": [
    "cv_scores = {}\n",
    "for k in range(1, 21):\n",
    "    model = KNeighborsClassifier(n_neighbors=k).fit(X_train, y_train)\n",
    "    cv_scores[k] = cross_val_score(model, X_train, y_train, cv=5).mean()\n",
    "    \n",
    "best_k = max(cv_scores, key=cv_scores.get)"
   ]
  },
  {
   "cell_type": "code",
   "execution_count": 18,
   "metadata": {},
   "outputs": [
    {
     "data": {
      "text/plain": [
       "Text(0, 0.5, 'Accuracy')"
      ]
     },
     "execution_count": 18,
     "metadata": {},
     "output_type": "execute_result"
    },
    {
     "data": {
      "image/png": "[encoded data removed]",
      "text/plain": [
       "<Figure size 720x360 with 1 Axes>"
      ]
     },
     "metadata": {
      "needs_background": "light"
     },
     "output_type": "display_data"
    }
   ],
   "source": [
    "plt.figure(figsize=(10, 5))\n",
    "plt.scatter(x=cv_scores.keys(), y=cv_scores.values())\n",
    "plt.xlabel('K')\n",
    "plt.ylabel('Accuracy')"
   ]
  },
  {
   "cell_type": "code",
   "execution_count": 19,
   "metadata": {},
   "outputs": [
    {
     "data": {
      "text/plain": [
       "0.8405797101449275"
      ]
     },
     "execution_count": 19,
     "metadata": {},
     "output_type": "execute_result"
    }
   ],
   "source": [
    "model = KNeighborsClassifier(n_neighbors=best_k, metric='manhattan').fit(X_train, y_train)\n",
    "model.score(X_test, y_test)"
   ]
  },
  {
   "cell_type": "code",
   "execution_count": 20,
   "metadata": {},
   "outputs": [],
   "source": [
    "model = KNeighborsClassifier(n_neighbors=best_k).fit(X, y)"
   ]
  },
  {
   "cell_type": "code",
   "execution_count": 21,
   "metadata": {},
   "outputs": [],
   "source": [
    "x_linspace = []\n",
    "for i in range(X.shape[1]):\n",
    "    min_, max_ = min(X[:,i]), max(X[:,i])\n",
    "    x_linspace.append(np.linspace(min_, max_, num = 40))\n",
    "\n",
    "x_linspace[0]\n",
    "\n",
    "# new_x = [[one, two, three, four] for one in x_linspace[0] for two in x_linspace[1] for three in x_linspace[2] for four in x_linspace[3]]\n",
    "new_x = np.array([[one, two] for one in x_linspace[0] for two in x_linspace[1]])"
   ]
  },
  {
   "cell_type": "code",
   "execution_count": 22,
   "metadata": {},
   "outputs": [],
   "source": [
    "y_pred = model.predict(new_x)"
   ]
  },
  {
   "cell_type": "code",
   "execution_count": 23,
   "metadata": {},
   "outputs": [
    {
     "data": {
      "text/plain": [
       "((550, 2), (550,))"
      ]
     },
     "execution_count": 23,
     "metadata": {},
     "output_type": "execute_result"
    }
   ],
   "source": [
    "X.shape, y.shape"
   ]
  },
  {
   "cell_type": "code",
   "execution_count": 24,
   "metadata": {},
   "outputs": [
    {
     "data": {
      "text/plain": [
       "<matplotlib.collections.PathCollection at 0x7fdad106a280>"
      ]
     },
     "execution_count": 24,
     "metadata": {},
     "output_type": "execute_result"
    },
    {
     "data": {
      "image/png": "[encoded data removed]",
      "text/plain": [
       "<Figure size 432x288 with 1 Axes>"
      ]
     },
     "metadata": {
      "needs_background": "light"
     },
     "output_type": "display_data"
    }
   ],
   "source": [
    "plt.scatter(new_x[:,0], new_x[:,1], c=y_pred, alpha=0.1)\n",
    "plt.scatter(X[:,0], X[:,1], c=y)"
   ]
  },
  {
   "cell_type": "markdown",
   "metadata": {
    "id": "3CQ5mT_oi1BA"
   },
   "source": [
    "# (Python) Problem 05: Scaling\n",
    "\n",
    " We consider the Dataset\n",
    " \n",
    " | $X_1$ | $X_2$| $Y$ |\n",
    " | --| --| -- | \n",
    " | 1 | 1 | -1 | \n",
    " | 0 | 2 | -1 | \n",
    " | 2 | 1 | 1 | \n",
    " | 2 | 2 | -1 |\n",
    " | 0 | 1 | 1 | \n",
    " | -1 | 1 | 1 | \n",
    " | -2 | 2 | -1| \n",
    " | 0 | 0 | 1| \n",
    "\n",
    "\n",
    " Let us take the observations no. 2, 3, 4 (I am counting from 1, not as in Python) as Test Dataset, and all others are in the Train Dataset\n",
    "\n",
    " * Calculate, by a hand, what will be the result if I will apply the MinMaxScaler to this Dataset (on Train and Test!)\n",
    " * Calculate, by a hand, what will be the result if I will apply the StandardScaler to this Dataset (on Train and Test!)\n",
    " * (Python) Do the above in Python, using `sklearn`\n",
    " * Explore if there are other Scalers, and read what they are doing"
   ]
  },
  {
   "cell_type": "code",
   "execution_count": 25,
   "metadata": {},
   "outputs": [],
   "source": [
    "X = np.array([[1,1], [0,2], [2,1], [2,2], [0,1], [-1,1], [-2,2], [0,0]])\n",
    "y = np.array([-1, -1, 1, -1, 1, 1, -1, 1])"
   ]
  },
  {
   "cell_type": "code",
   "execution_count": 26,
   "metadata": {},
   "outputs": [],
   "source": [
    "def min_max_scaler(X, y):\n",
    "    X_new = []\n",
    "    for i in range(X.shape[1]):\n",
    "        print(i)\n",
    "        vec = np.array(X[:,i])\n",
    "        print(vec)\n",
    "        X_new.append((vec - np.min(vec)) / (np.max(vec) - np.min(vec)))\n",
    "    y_new = (y - np.min(y)) / (np.max(y) - np.min(y))\n",
    "    \n",
    "    return np.array(X_new), np.array(y_new)"
   ]
  },
  {
   "cell_type": "code",
   "execution_count": 27,
   "metadata": {},
   "outputs": [
    {
     "name": "stdout",
     "output_type": "stream",
     "text": [
      "0\n",
      "[ 1  0  2  2  0 -1 -2  0]\n",
      "1\n",
      "[1 2 1 2 1 1 2 0]\n"
     ]
    },
    {
     "data": {
      "text/plain": [
       "array([[0.75, 0.5 , 1.  , 1.  , 0.5 , 0.25, 0.  , 0.5 ],\n",
       "       [0.5 , 1.  , 0.5 , 1.  , 0.5 , 0.5 , 1.  , 0.  ]])"
      ]
     },
     "execution_count": 27,
     "metadata": {},
     "output_type": "execute_result"
    }
   ],
   "source": [
    "X_s, y_s  = min_max_scaler(X, y)\n",
    "X_s"
   ]
  },
  {
   "cell_type": "code",
   "execution_count": 28,
   "metadata": {},
   "outputs": [
    {
     "data": {
      "text/plain": [
       "array([[0.75, 0.5 ],\n",
       "       [0.5 , 1.  ],\n",
       "       [1.  , 0.5 ],\n",
       "       [1.  , 1.  ],\n",
       "       [0.5 , 0.5 ],\n",
       "       [0.25, 0.5 ],\n",
       "       [0.  , 1.  ],\n",
       "       [0.5 , 0.  ]])"
      ]
     },
     "execution_count": 28,
     "metadata": {},
     "output_type": "execute_result"
    }
   ],
   "source": [
    "MinMaxScaler().fit_transform(X)"
   ]
  },
  {
   "cell_type": "code",
   "execution_count": 29,
   "metadata": {},
   "outputs": [],
   "source": [
    "def standard_scaler(X, y):\n",
    "    X_new = []\n",
    "    for i in range(X.shape[1]):\n",
    "        vec = np.array(X[:,i])\n",
    "        X_new.append((vec - np.mean(vec)) / np.std(vec))\n",
    "    y_new = (y - np.mean(y)) / np.std(y)\n",
    "    \n",
    "    return np.array(X_new), np.array(y_new)"
   ]
  },
  {
   "cell_type": "code",
   "execution_count": 30,
   "metadata": {},
   "outputs": [
    {
     "data": {
      "text/plain": [
       "(array([[ 0.57735027, -0.19245009,  1.34715063,  1.34715063, -0.19245009,\n",
       "         -0.96225045, -1.73205081, -0.19245009],\n",
       "        [-0.37796447,  1.13389342, -0.37796447,  1.13389342, -0.37796447,\n",
       "         -0.37796447,  1.13389342, -1.88982237]]),\n",
       " array([-1., -1.,  1., -1.,  1.,  1., -1.,  1.]))"
      ]
     },
     "execution_count": 30,
     "metadata": {},
     "output_type": "execute_result"
    }
   ],
   "source": [
    "standard_scaler(X, y)"
   ]
  },
  {
   "cell_type": "code",
   "execution_count": 31,
   "metadata": {},
   "outputs": [
    {
     "data": {
      "text/plain": [
       "array([[ 0.57735027, -0.37796447],\n",
       "       [-0.19245009,  1.13389342],\n",
       "       [ 1.34715063, -0.37796447],\n",
       "       [ 1.34715063,  1.13389342],\n",
       "       [-0.19245009, -0.37796447],\n",
       "       [-0.96225045, -0.37796447],\n",
       "       [-1.73205081,  1.13389342],\n",
       "       [-0.19245009, -1.88982237]])"
      ]
     },
     "execution_count": 31,
     "metadata": {},
     "output_type": "execute_result"
    }
   ],
   "source": [
    "StandardScaler().fit_transform(X)"
   ]
  },
  {
   "cell_type": "markdown",
   "metadata": {
    "id": "EKEx9Xo_hSqK"
   },
   "source": [
    "# (Python) Problem 06: $k$NN with Scaling\n",
    "\n",
    "  * Generate a 2D Feature, 1D Target (Label) Binary Classification Dataset with a Size 300 using the `make_classification` function, by fixing the random state to 10.\n",
    "  * Multiply the First feature column by 0.01, and the second Feature column by 2000 - the result will be our Dataset\n",
    "  * Divide the Dataset into 80/20 Train/Test Datasets\n",
    "  * Train a kNN Classifier with $k=7$ and the Euclidean Distance\n",
    "  * Calculate the Accuracy of the Model over the Test Dataset\n",
    "  * Now use MinMax Scaler to Scale the Dataset, train a kNN Classifier with $k=7$ over the Scaled Dataset and calculate the Accuracy over the Test Dataset\n",
    "  * Do the above with the StandardScaler instead of the MinMax Scaler\n",
    "  * Write the above also in the Pipleline form"
   ]
  },
  {
   "cell_type": "code",
   "execution_count": 34,
   "metadata": {},
   "outputs": [],
   "source": [
    "X_orig, y = make_classification(300, n_classes=2, n_features=2, n_informative=2, n_redundant=0, random_state=10)"
   ]
  },
  {
   "cell_type": "code",
   "execution_count": 35,
   "metadata": {},
   "outputs": [
    {
     "data": {
      "text/plain": [
       "(300, 2)"
      ]
     },
     "execution_count": 35,
     "metadata": {},
     "output_type": "execute_result"
    }
   ],
   "source": [
    "X_orig = np.array([[X_orig[i][0]*0.01, X_orig[i][1]*2000] for i in range(X_orig.shape[0])])\n",
    "X_orig.shape"
   ]
  },
  {
   "cell_type": "code",
   "execution_count": 36,
   "metadata": {},
   "outputs": [
    {
     "data": {
      "text/plain": [
       "0.65"
      ]
     },
     "execution_count": 36,
     "metadata": {},
     "output_type": "execute_result"
    }
   ],
   "source": [
    "X_train, X_test, y_train, y_test = train_test_split(X_orig, y, test_size=0.2)\n",
    "model = KNeighborsClassifier(n_neighbors=7).fit(X_train, y_train)\n",
    "model.score(X_test, y_test)"
   ]
  },
  {
   "cell_type": "code",
   "execution_count": 37,
   "metadata": {},
   "outputs": [
    {
     "data": {
      "text/plain": [
       "0.9333333333333333"
      ]
     },
     "execution_count": 37,
     "metadata": {},
     "output_type": "execute_result"
    }
   ],
   "source": [
    "X = MinMaxScaler().fit_transform(X_orig)\n",
    "X_train, X_test, y_train, y_test = train_test_split(X, y, test_size=0.2)\n",
    "model = KNeighborsClassifier(n_neighbors=7).fit(X_train, y_train)\n",
    "model.score(X_test, y_test)"
   ]
  },
  {
   "cell_type": "code",
   "execution_count": 38,
   "metadata": {},
   "outputs": [
    {
     "data": {
      "text/plain": [
       "0.9166666666666666"
      ]
     },
     "execution_count": 38,
     "metadata": {},
     "output_type": "execute_result"
    }
   ],
   "source": [
    "X = StandardScaler().fit_transform(X_orig)\n",
    "X_train, X_test, y_train, y_test = train_test_split(X, y, test_size=0.2, random_state=42)\n",
    "model = KNeighborsClassifier(n_neighbors=7).fit(X_train, y_train)\n",
    "model.score(X_test, y_test)"
   ]
  },
  {
   "cell_type": "code",
   "execution_count": 39,
   "metadata": {},
   "outputs": [
    {
     "data": {
      "text/plain": [
       "0.9166666666666666"
      ]
     },
     "execution_count": 39,
     "metadata": {},
     "output_type": "execute_result"
    }
   ],
   "source": [
    "X_train, X_test, y_train, y_test = train_test_split(X, y, test_size=0.2, random_state=42)\n",
    "scaler = StandardScaler()\n",
    "knn = KNeighborsClassifier(n_neighbors=7)\n",
    "pipe = Pipeline([('scaler', scaler), (\"Classifier\", knn)])\n",
    "pipe.fit(X_train, y_train)\n",
    "pipe.score(X_test, y_test)"
   ]
  },
  {
   "cell_type": "markdown",
   "metadata": {
    "id": "hK0G8VVvUMYC"
   },
   "source": [
    "# (Python) Problem 07: kNN Regression\n",
    "\n",
    " - Generate a 1D Feature, 1D Target (Label) Regression Dataset\n",
    " - Visualize the Dataset\n",
    " - Divide the Dataset into Train/Test splits (choose the split ratio by yourself)\n",
    " - Train the following Models over the Training Dataset: Linear Regression, Ridge (choose the coefficient by yourself), kNN Regression with $k=1$ and kNN Regression with $k = 5$;\n",
    " - Compare the preformance of these Models by comparing their MSEs, choose the best Model\n",
    " - Draw the results (Regression Curves for each case) of all models over the Dataset, use diferent colors and Legends"
   ]
  },
  {
   "cell_type": "code",
   "execution_count": 40,
   "metadata": {},
   "outputs": [],
   "source": [
    "X, y = make_regression(100, n_features=1, noise=10, random_state=42)"
   ]
  },
  {
   "cell_type": "code",
   "execution_count": 41,
   "metadata": {},
   "outputs": [
    {
     "data": {
      "text/plain": [
       "<matplotlib.collections.PathCollection at 0x7fdad07d85e0>"
      ]
     },
     "execution_count": 41,
     "metadata": {},
     "output_type": "execute_result"
    },
    {
     "data": {
      "image/png": "[encoded data removed]",
      "text/plain": [
       "<Figure size 432x288 with 1 Axes>"
      ]
     },
     "metadata": {
      "needs_background": "light"
     },
     "output_type": "display_data"
    }
   ],
   "source": [
    "plt.scatter(X, y)"
   ]
  },
  {
   "cell_type": "code",
   "execution_count": 42,
   "metadata": {},
   "outputs": [],
   "source": [
    "X_train, X_test, y_train, y_test = train_test_split(X, y, test_size=0.2)"
   ]
  },
  {
   "cell_type": "code",
   "execution_count": 43,
   "metadata": {},
   "outputs": [],
   "source": [
    "lr = LinearRegression().fit(X_train, y_train)\n",
    "ridge = Ridge(alpha=0.5).fit(X_train, y_train)\n",
    "knn1 = KNeighborsRegressor(n_neighbors=1).fit(X_train, y_train)\n",
    "knn5 = KNeighborsRegressor(n_neighbors=5).fit(X_train, y_train)"
   ]
  },
  {
   "cell_type": "code",
   "execution_count": 44,
   "metadata": {},
   "outputs": [
    {
     "name": "stdout",
     "output_type": "stream",
     "text": [
      "LR: 63.728092362108406\n",
      "Ridge: 63.46675756450195\n",
      "KNN1: 154.62259917291192\n",
      "KNN5: 81.17602013640567\n"
     ]
    }
   ],
   "source": [
    "print('LR:', mean_squared_error(y_test, lr.predict(X_test)))\n",
    "print('Ridge:', mean_squared_error(y_test, ridge.predict(X_test)))\n",
    "print('KNN1:', mean_squared_error(y_test, knn1.predict(X_test)))\n",
    "print('KNN5:', mean_squared_error(y_test, knn5.predict(X_test)))"
   ]
  },
  {
   "cell_type": "code",
   "execution_count": 45,
   "metadata": {},
   "outputs": [],
   "source": [
    "x_linspace = np.linspace(X.min(), X.max(), 1000).reshape(-1, 1)\n",
    "y_lr = lr.predict(x_linspace)\n",
    "y_ridge = ridge.predict(x_linspace)\n",
    "y_knn1 = knn1.predict(x_linspace)\n",
    "y_knn5 = knn5.predict(x_linspace)"
   ]
  },
  {
   "cell_type": "code",
   "execution_count": 46,
   "metadata": {},
   "outputs": [
    {
     "data": {
      "image/png": "[encoded data removed]",
      "text/plain": [
       "<Figure size 432x288 with 1 Axes>"
      ]
     },
     "metadata": {
      "needs_background": "light"
     },
     "output_type": "display_data"
    }
   ],
   "source": [
    "plt.scatter(X, y)\n",
    "plt.plot(x_linspace, y_lr, label='LR', c='r')\n",
    "plt.plot(x_linspace, y_ridge, label='Ridge', c='g')\n",
    "plt.plot(x_linspace, y_knn1, label='KNN1', c='orange')\n",
    "plt.plot(x_linspace, y_knn5, label='KNN5', c='yellow')\n",
    "plt.legend()\n",
    "plt.show()"
   ]
  },
  {
   "cell_type": "markdown",
   "metadata": {
    "id": "V7wQa_GNOLdR"
   },
   "source": [
    "# (Python) Problem 08: kNN for MNIST\n",
    "\n",
    "  Use kNN for MNIST handwritten digits classification. So you can start by visualizing some elements of the Dataset, then you need to choose some best value for $k$, report the resulting Accuracy, do some predictions and print the actual values, and also, desirably, to to predict on your custom handwritten digits.\n",
    "  \n"
   ]
  },
  {
   "cell_type": "code",
   "execution_count": 47,
   "metadata": {},
   "outputs": [],
   "source": [
    "from sklearn.datasets import load_digits"
   ]
  },
  {
   "cell_type": "code",
   "execution_count": 48,
   "metadata": {},
   "outputs": [],
   "source": [
    "X, y = load_digits(return_X_y=True)"
   ]
  },
  {
   "cell_type": "code",
   "execution_count": 49,
   "metadata": {},
   "outputs": [
    {
     "data": {
      "text/plain": [
       "((1797, 64), (1797,))"
      ]
     },
     "execution_count": 49,
     "metadata": {},
     "output_type": "execute_result"
    }
   ],
   "source": [
    "X.shape, y.shape"
   ]
  },
  {
   "cell_type": "code",
   "execution_count": 50,
   "metadata": {},
   "outputs": [],
   "source": [
    "X_train, X_test, y_train, y_test = train_test_split(X, y, test_size = 0.2)"
   ]
  },
  {
   "cell_type": "code",
   "execution_count": 51,
   "metadata": {},
   "outputs": [],
   "source": [
    "# X_train_flat = []\n",
    "# for i in range(X_train.shape[0]):\n",
    "#     X_train_flat.append(X_train[i].flatten())\n",
    "    \n",
    "# X_test_flat = []\n",
    "# for i in range(X_test.shape[0]):\n",
    "#     X_test_flat.append(X_test[i].flatten())"
   ]
  },
  {
   "cell_type": "code",
   "execution_count": 52,
   "metadata": {},
   "outputs": [],
   "source": [
    "# X_train = np.array(X_train_flat)\n",
    "# X_test = np.array(X_test_flat)"
   ]
  },
  {
   "cell_type": "code",
   "execution_count": 53,
   "metadata": {},
   "outputs": [
    {
     "name": "stdout",
     "output_type": "stream",
     "text": [
      "3 0.9888888888888889\n",
      "5 0.9888888888888889\n",
      "7 0.9833333333333333\n",
      "9 0.9833333333333333\n"
     ]
    }
   ],
   "source": [
    "for k in range(3, 11, 2):\n",
    "    model = KNeighborsClassifier(n_neighbors=k).fit(X_train, y_train)\n",
    "    print(k, model.score(X_test, y_test))"
   ]
  },
  {
   "cell_type": "markdown",
   "metadata": {},
   "source": [
    "The best model is with k=3"
   ]
  },
  {
   "cell_type": "code",
   "execution_count": 54,
   "metadata": {},
   "outputs": [
    {
     "data": {
      "text/plain": [
       "0.9888888888888889"
      ]
     },
     "execution_count": 54,
     "metadata": {},
     "output_type": "execute_result"
    }
   ],
   "source": [
    "model = KNeighborsClassifier(n_neighbors=3).fit(X_train, y_train)\n",
    "model.score(X_test, y_test)"
   ]
  },
  {
   "cell_type": "code",
   "execution_count": 55,
   "metadata": {},
   "outputs": [
    {
     "data": {
      "text/plain": [
       "array([2, 1])"
      ]
     },
     "execution_count": 55,
     "metadata": {},
     "output_type": "execute_result"
    }
   ],
   "source": [
    "model.predict(X_test[0:2])"
   ]
  },
  {
   "cell_type": "code",
   "execution_count": 56,
   "metadata": {},
   "outputs": [
    {
     "data": {
      "text/plain": [
       "array([2, 1])"
      ]
     },
     "execution_count": 56,
     "metadata": {},
     "output_type": "execute_result"
    }
   ],
   "source": [
    "y_test[0:2]"
   ]
  },
  {
   "cell_type": "markdown",
   "metadata": {},
   "source": [
    "## Bernoulli Naive Bayes "
   ]
  },
  {
   "cell_type": "code",
   "execution_count": 32,
   "metadata": {},
   "outputs": [],
   "source": [
    "from sklearn.naive_bayes import BernoulliNB, CategoricalNB, GaussianNB"
   ]
  },
  {
   "cell_type": "code",
   "execution_count": 159,
   "metadata": {},
   "outputs": [
    {
     "data": {
      "text/plain": [
       "((5, 3), (5,))"
      ]
     },
     "execution_count": 159,
     "metadata": {},
     "output_type": "execute_result"
    }
   ],
   "source": [
    "X = np.array([[1,0,0], [1,0,1], [0,1,1], [0,1,0], [1,1,1]])\n",
    "y = np.array([0,1,0,1,1])\n",
    "X.shape, y.shape"
   ]
  },
  {
   "cell_type": "code",
   "execution_count": 91,
   "metadata": {},
   "outputs": [],
   "source": [
    "y0_ind = np.where(y == 0)\n",
    "y1_ind = np.where(y == 1)\n",
    "\n",
    "X0 = X[y0_ind]\n",
    "X1 = X[y1_ind]\n",
    "\n",
    "prior_probs = {'P(y=0)':len(X0)/len(y), 'P(y=1)':len(X1)/len(y)}\n",
    "\n",
    "cond_probs = {}\n",
    "\n",
    "for i in range(X.shape[1]):\n",
    "    x0_from_y0 = X0[X0[:,i] == 0]\n",
    "    x0_from_y1 = X1[X1[:,i] == 0]\n",
    "    \n",
    "    x1_from_y0 = X0[X0[:,i] == 1]\n",
    "    x1_from_y1 = X1[X1[:,i] == 1]\n",
    "    \n",
    "    cond_probs[f'P(x{i}=0|y=0)'] = len(x0_from_y0)/len(X0)\n",
    "    cond_probs[f'P(x{i}=0|y=1)'] = len(x0_from_y1)/len(X1)\n",
    "    \n",
    "    cond_probs[f'P(x{i}=1|y=0)'] = len(x1_from_y0)/len(X0)\n",
    "    cond_probs[f'P(x{i}=1|y=1)'] = len(x1_from_y1)/len(X1)"
   ]
  },
  {
   "cell_type": "code",
   "execution_count": 104,
   "metadata": {},
   "outputs": [
    {
     "data": {
      "text/plain": [
       "[0.05, 0.08888888888888888]"
      ]
     },
     "execution_count": 104,
     "metadata": {},
     "output_type": "execute_result"
    }
   ],
   "source": [
    "new_point = [1, 1, 0]\n",
    "\n",
    "final_probs = [1, 1]\n",
    "for i in range(len(new_point)):\n",
    "    final_probs[0] = final_probs[0] * cond_probs[f'P(x0={new_point[i]}|y=0)']\n",
    "    final_probs[1] = final_probs[1] * cond_probs[f'P(x0={new_point[i]}|y=1)']\n",
    "\n",
    "final_probs[0] = final_probs[0]*prior_probs['P(y=0)']\n",
    "final_probs[1] = final_probs[1]*prior_probs['P(y=1)']\n",
    "final_probs"
   ]
  },
  {
   "cell_type": "code",
   "execution_count": 110,
   "metadata": {},
   "outputs": [],
   "source": [
    "final_label = 0 if final_probs[0] > final_probs[1] else 1 "
   ]
  },
  {
   "cell_type": "code",
   "execution_count": 162,
   "metadata": {},
   "outputs": [],
   "source": [
    "# new_point = [1, 1, 0]\n",
    "\n",
    "# cond_probs = {}\n",
    "# prior_probs = {}\n",
    "\n",
    "# for y_label in np.unique(y):\n",
    "#     for x_ind in range(len(new_point)):\n",
    "#         x = new_point[x_ind]\n",
    "#         prior_probs[f'P(Y={y_label}'] = np.sum(y == y_label)\n",
    "#         cond_probs[f'P(X{x_ind}={x}|Y={y_label})'] = np.sum((X[:,x_ind] == x) & (y == y_label))/prior_probs[f'P(Y={y_label}']\n",
    "        \n",
    "        \n",
    "# final_probs = {i:1 for i in np.unique(y)}\n",
    "# for y_label in final_probs:\n",
    "#     y_label_idx = [cond_probs[i] for i in cond_probs if f\"Y={y_label}\" in i]\n",
    "#     final_probs[y_label] = np.prod(y_label_idx)*prior_probs[f'P(Y={y_label}']\n",
    "    \n",
    "# final_label = max(final_probs, key=final_probs.get)\n",
    "\n",
    "# final_probs, final_label"
   ]
  },
  {
   "cell_type": "markdown",
   "metadata": {
    "id": "Z-6_P_6lWtxz"
   },
   "source": [
    "# Problem 09: Categorical Naive Bayes\n",
    "\n",
    "We consider here the following Dataset:\n",
    "\n",
    " | $X_1$ | $X_2$| $X_3$ | $Y$|\n",
    " | --| --| -- | -- |\n",
    " | 1 | 1 | -1 | A|\n",
    " | 0 | 2 | -1 | B|\n",
    " | 2 | 1 | 1 | B|\n",
    " | 2 | 2 | -1 | A |\n",
    " | 0 | 1 | 1 | A|\n",
    " | 1 | 1 | 1 | B|\n",
    " | 2 | 2 | -1| B|\n",
    " | 0 | 2 | 1| A|\n",
    "\n",
    "Use the Naive Bayes approach to predict the Label for the Observation with $x = (0,1,-1)$."
   ]
  },
  {
   "cell_type": "code",
   "execution_count": 167,
   "metadata": {},
   "outputs": [
    {
     "data": {
      "text/plain": [
       "((8, 3), (8,))"
      ]
     },
     "execution_count": 167,
     "metadata": {},
     "output_type": "execute_result"
    }
   ],
   "source": [
    "X = np.array([[1,1,5], [0,2,5], [2,1,1], [2,2,5], [0,1,1], [1,1,1], [2,2,5], [0,2,1]])\n",
    "y = np.array([\"A\", \"B\", \"B\", \"A\", \"A\", \"B\", \"B\", \"A\"])\n",
    "X.shape, y.shape"
   ]
  },
  {
   "cell_type": "code",
   "execution_count": 172,
   "metadata": {},
   "outputs": [
    {
     "name": "stderr",
     "output_type": "stream",
     "text": [
      "/home/hermine/anaconda3/lib/python3.9/site-packages/sklearn/naive_bayes.py:508: UserWarning: alpha too small will result in numeric errors, setting alpha = 1.0e-10\n",
      "  warnings.warn('alpha too small will result in numeric errors, '\n"
     ]
    },
    {
     "data": {
      "text/plain": [
       "array([[0.66666667, 0.33333333]])"
      ]
     },
     "execution_count": 172,
     "metadata": {},
     "output_type": "execute_result"
    }
   ],
   "source": [
    "model = CategoricalNB(alpha=0).fit(X, y)\n",
    "new_point = [0,1,5]\n",
    "model.predict([new_point])\n",
    "model.predict_proba([new_point])"
   ]
  },
  {
   "cell_type": "code",
   "execution_count": 153,
   "metadata": {},
   "outputs": [
    {
     "data": {
      "text/plain": [
       "(array(['A', 'B'], dtype='<U1'), array([4, 4]))"
      ]
     },
     "execution_count": 153,
     "metadata": {},
     "output_type": "execute_result"
    }
   ],
   "source": [
    "labels, counts = np.unique(y, return_counts=True)\n",
    "labels, counts"
   ]
  },
  {
   "cell_type": "code",
   "execution_count": 154,
   "metadata": {},
   "outputs": [],
   "source": [
    "new_point = [0,1,-1]"
   ]
  },
  {
   "cell_type": "code",
   "execution_count": 155,
   "metadata": {},
   "outputs": [],
   "source": [
    "cond_probs = {}\n",
    "prior_probs = {}\n",
    "\n",
    "for y_label in np.unique(y):\n",
    "    for x_ind in range(len(new_point)):\n",
    "        x = new_point[x_ind]\n",
    "        prior_probs[f'P(Y={y_label}'] = np.sum(y == y_label)\n",
    "        cond_probs[f'P(X{x_ind}={x}|Y={y_label})'] = np.sum((X[:,x_ind] == x) & (y == y_label))/prior_probs[f'P(Y={y_label}']"
   ]
  },
  {
   "cell_type": "code",
   "execution_count": 156,
   "metadata": {},
   "outputs": [],
   "source": [
    "final_probs = {i:1 for i in np.unique(y)}\n",
    "for y_label in final_probs:\n",
    "    y_label_idx = [cond_probs[i] for i in cond_probs if f\"Y={y_label}\" in i]\n",
    "    final_probs[y_label] = np.prod(y_label_idx)*prior_probs[f'P(Y={y_label}']"
   ]
  },
  {
   "cell_type": "code",
   "execution_count": 157,
   "metadata": {},
   "outputs": [],
   "source": [
    "final_label = max(final_probs, key=final_probs.get)"
   ]
  },
  {
   "cell_type": "code",
   "execution_count": 158,
   "metadata": {},
   "outputs": [
    {
     "data": {
      "text/plain": [
       "({'A': 0.5, 'B': 0.25}, 'A')"
      ]
     },
     "execution_count": 158,
     "metadata": {},
     "output_type": "execute_result"
    }
   ],
   "source": [
    "final_probs, final_label"
   ]
  },
  {
   "cell_type": "markdown",
   "metadata": {
    "id": "CyPGScQ9XG3d"
   },
   "source": [
    "# (Python) Problem 10: Naive Bayes\n",
    "\n",
    "Use the approrpiate Naive Bayes algorithm for the Dataset https://archive.ics.uci.edu/ml/datasets/Car+Evaluation . Report the Accuracy."
   ]
  },
  {
   "cell_type": "code",
   "execution_count": 181,
   "metadata": {},
   "outputs": [],
   "source": [
    "df = pd.read_csv('../Data/car.csv', header=None)"
   ]
  },
  {
   "cell_type": "code",
   "execution_count": null,
   "metadata": {},
   "outputs": [],
   "source": []
  },
  {
   "cell_type": "markdown",
   "metadata": {
    "id": "ktBTof0dwILO"
   },
   "source": [
    "# (Python) Problem 11: Naive Bayes\n",
    "\n",
    "Use the appropriate Naive Bayes algorithm to classify Diabetes using the following Dataset: https://www.kaggle.com/datasets/uciml/pima-indians-diabetes-database . Compare the result with the one obtained with kNN with $k=5$ and $k=7$."
   ]
  },
  {
   "cell_type": "markdown",
   "metadata": {
    "id": "HzWWafsAlDvg"
   },
   "source": [
    "# Problem 12: Vector Count encoding\n",
    "\n",
    "Here is the list of some Documents:\n",
    "\n",
    "1. All you need is Love\n",
    "2. And I love her\n",
    "3. All my loving\n",
    "4. Love is all you need\n",
    "5. Her Majesty\n",
    "6. I need you, yeh, yeh, yeh. PS. I love you.\n",
    "\n",
    "Construct the Vocabulary for this list, and encode the Documents no. 1, 3, 4, 6."
   ]
  },
  {
   "cell_type": "code",
   "execution_count": null,
   "metadata": {},
   "outputs": [],
   "source": [
    "vocab = ['all', 'you', 'need', 'is', 'love', 'and', 'i', 'her', 'my', 'loving', 'majesty', 'yeh', 'ps']\n",
    "\n",
    "doc1 = [1, 1, 1, 1, 1, 0, 0, 0, 0, 0, 0, 0, 0]\n",
    "doc2 = [0, 0, 0, 0, 1, 1, 1, 0, 0, 0, 0, 0, 0]\n",
    "doc3 = [1, 0, 0, 0, 1] #..."
   ]
  },
  {
   "cell_type": "markdown",
   "metadata": {
    "id": "0sfzz-QfiUEe"
   },
   "source": [
    "# (Python) Problem 13: Naive Bayes for text Classification\n",
    "\n",
    "  Find a Dataset of textual documents with Labels (say, sentiments prediction dataset), and fit into the appropriate Naive Bayes algorithm. Report the Accuracy."
   ]
  },
  {
   "cell_type": "code",
   "execution_count": 2,
   "metadata": {},
   "outputs": [],
   "source": [
    "from sklearn.datasets import fetch_20newsgroups\n",
    "from sklearn.feature_extraction.text import TfidfVectorizer\n",
    "from sklearn.naive_bayes import MultinomialNB\n",
    "from sklearn.pipeline import make_pipeline\n",
    "from sklearn.metrics import confusion_matrix, accuracy_score"
   ]
  },
  {
   "cell_type": "code",
   "execution_count": 3,
   "metadata": {},
   "outputs": [],
   "source": [
    "# Load the dataset\n",
    "data = fetch_20newsgroups()\n",
    "# Get the text categories\n",
    "text_categories = data.target_names\n",
    "# define the training set\n",
    "train_data = fetch_20newsgroups(subset=\"train\", categories=text_categories)\n",
    "# define the test set\n",
    "test_data = fetch_20newsgroups(subset=\"test\", categories=text_categories)"
   ]
  },
  {
   "cell_type": "code",
   "execution_count": 4,
   "metadata": {},
   "outputs": [],
   "source": [
    "# Build the model\n",
    "model = make_pipeline(TfidfVectorizer(), MultinomialNB())\n",
    "# Train the model using the training data\n",
    "model.fit(train_data.data, train_data.target)\n",
    "# Predict the categories of the test data\n",
    "predicted_categories = model.predict(test_data.data)"
   ]
  },
  {
   "cell_type": "code",
   "execution_count": 6,
   "metadata": {},
   "outputs": [
    {
     "data": {
      "text/plain": [
       "0.7738980350504514"
      ]
     },
     "execution_count": 6,
     "metadata": {},
     "output_type": "execute_result"
    }
   ],
   "source": [
    "model.score(test_data.data, test_data.target)"
   ]
  },
  {
   "cell_type": "code",
   "execution_count": null,
   "metadata": {},
   "outputs": [],
   "source": []
  }
 ],
 "metadata": {
  "colab": {
   "collapsed_sections": [],
   "name": "Homework 04, kNN, Naive Bayes.ipynb",
   "provenance": []
  },
  "kernelspec": {
   "display_name": "Python 3 (ipykernel)",
   "language": "python",
   "name": "python3"
  },
  "language_info": {
   "codemirror_mode": {
    "name": "ipython",
    "version": 3
   },
   "file_extension": ".py",
   "mimetype": "text/x-python",
   "name": "python",
   "nbconvert_exporter": "python",
   "pygments_lexer": "ipython3",
   "version": "3.9.7"
  }
 },
 "nbformat": 4,
 "nbformat_minor": 1
}
